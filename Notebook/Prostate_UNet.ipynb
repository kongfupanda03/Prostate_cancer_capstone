{
  "nbformat": 4,
  "nbformat_minor": 0,
  "metadata": {
    "colab": {
      "name": "Prostate_UNet.ipynb",
      "provenance": []
    },
    "kernelspec": {
      "name": "python3",
      "display_name": "Python 3"
    },
    "accelerator": "TPU"
  },
  "cells": [
    {
      "cell_type": "code",
      "metadata": {
        "id": "Og7XpAutXrh-",
        "colab_type": "code",
        "outputId": "e70b5e78-1dba-4b2f-d6bd-463f9f7deb41",
        "colab": {
          "base_uri": "https://localhost:8080/",
          "height": 34
        }
      },
      "source": [
        "pwd"
      ],
      "execution_count": 0,
      "outputs": [
        {
          "output_type": "execute_result",
          "data": {
            "text/plain": [
              "'/content'"
            ]
          },
          "metadata": {
            "tags": []
          },
          "execution_count": 1
        }
      ]
    },
    {
      "cell_type": "code",
      "metadata": {
        "id": "5agMZEzm6ErL",
        "colab_type": "code",
        "outputId": "e879ad64-25ae-42d5-ef64-c8e7f77317f0",
        "colab": {
          "base_uri": "https://localhost:8080/",
          "height": 119
        }
      },
      "source": [
        "pip install --upgrade --pre SimpleITK --find-links https://github.com/SimpleITK/SimpleITK/releases/tag/latest"
      ],
      "execution_count": 0,
      "outputs": [
        {
          "output_type": "stream",
          "text": [
            "Looking in links: https://github.com/SimpleITK/SimpleITK/releases/tag/latest\n",
            "Collecting SimpleITK\n",
            "\u001b[?25l  Downloading https://github.com/SimpleITK/SimpleITK/releases/download/latest/SimpleITK-2.0.0rc1.post27-cp36-cp36m-manylinux1_x86_64.whl (43.3MB)\n",
            "\u001b[K     |████████████████████████████████| 43.3MB 89kB/s \n",
            "\u001b[?25hInstalling collected packages: SimpleITK\n",
            "Successfully installed SimpleITK-2.0.0rc1.post27\n"
          ],
          "name": "stdout"
        }
      ]
    },
    {
      "cell_type": "code",
      "metadata": {
        "id": "rSA9oIiPXs5s",
        "colab_type": "code",
        "outputId": "9da83bba-d63b-4ac7-829c-10adbe607e42",
        "colab": {
          "base_uri": "https://localhost:8080/",
          "height": 34
        }
      },
      "source": [
        "cd drive/My\\ Drive/Gleason-master"
      ],
      "execution_count": 0,
      "outputs": [
        {
          "output_type": "stream",
          "text": [
            "/content/drive/My Drive/Gleason-master\n"
          ],
          "name": "stdout"
        }
      ]
    },
    {
      "cell_type": "code",
      "metadata": {
        "id": "LAdnNDfqYi9n",
        "colab_type": "code",
        "outputId": "13ea8f26-a5cc-4517-fd4a-3983270201ea",
        "colab": {
          "base_uri": "https://localhost:8080/",
          "height": 34
        }
      },
      "source": [
        "print(tf.__version__)\n"
      ],
      "execution_count": 0,
      "outputs": [
        {
          "output_type": "stream",
          "text": [
            "2.2.0-rc1\n"
          ],
          "name": "stdout"
        }
      ]
    },
    {
      "cell_type": "code",
      "metadata": {
        "id": "F4GE00d5Yvxf",
        "colab_type": "code",
        "colab": {}
      },
      "source": [
        "import cv2"
      ],
      "execution_count": 0,
      "outputs": []
    },
    {
      "cell_type": "code",
      "metadata": {
        "id": "LjlAeaAGfeke",
        "colab_type": "code",
        "colab": {}
      },
      "source": [
        "from tqdm import tqdm \n"
      ],
      "execution_count": 0,
      "outputs": []
    },
    {
      "cell_type": "code",
      "metadata": {
        "id": "qizkWo2dZT8u",
        "colab_type": "code",
        "colab": {}
      },
      "source": [
        "import numpy as np\n",
        "import matplotlib.pyplot as plt\n",
        "from pylab import *\n",
        "import os\n",
        "import sys\n",
        "from tensorflow.keras.models import Model\n",
        "from tensorflow.keras.regularizers import l2\n",
        "from tensorflow.keras.layers import *"
      ],
      "execution_count": 0,
      "outputs": []
    },
    {
      "cell_type": "code",
      "metadata": {
        "id": "qXlaSn_9ZT_f",
        "colab_type": "code",
        "colab": {}
      },
      "source": [
        "import numpy as np\n",
        "import matplotlib.pyplot as plt\n",
        "%matplotlib inline\n",
        "import os\n",
        "import random\n",
        "import re\n",
        "from PIL import Image"
      ],
      "execution_count": 0,
      "outputs": []
    },
    {
      "cell_type": "code",
      "metadata": {
        "id": "XlgT0GzsZUCO",
        "colab_type": "code",
        "outputId": "4b86b675-0fab-46d2-b63c-9ff371e5629e",
        "colab": {
          "base_uri": "https://localhost:8080/",
          "height": 34
        }
      },
      "source": [
        "from keras.models import Model\n",
        "from keras.layers import Input, BatchNormalization, Concatenate, PReLU, ELU\n",
        "from keras.layers import Conv2D, MaxPooling2D, Conv2DTranspose\n",
        "import numpy as np"
      ],
      "execution_count": 0,
      "outputs": [
        {
          "output_type": "stream",
          "text": [
            "Using TensorFlow backend.\n"
          ],
          "name": "stderr"
        }
      ]
    },
    {
      "cell_type": "code",
      "metadata": {
        "id": "48Qj2OpIZUEq",
        "colab_type": "code",
        "colab": {}
      },
      "source": [
        "#from tensorflow.keras.engine import Layer\n",
        "from tensorflow.keras.applications.vgg16 import *\n",
        "from tensorflow.keras.models import *\n",
        "#from tensorflow.keras.applications.imagenet_utils import _obtain_input_shape\n",
        "import tensorflow.keras.backend as K\n",
        "import tensorflow as tf\n",
        "from tensorflow.keras.optimizers import Adam\n",
        "from tensorflow.keras.layers import Convolution2D, ZeroPadding2D, MaxPooling2D, Cropping2D, Conv2D\n",
        "from tensorflow.keras.layers import Input, Add, Dropout, Permute, add\n",
        "from tensorflow.compat.v1.layers import conv2d_transpose\n",
        "from tensorflow.keras.preprocessing.image import ImageDataGenerator\n",
        "from tensorflow.python.keras.callbacks import TensorBoard, ModelCheckpoint, EarlyStopping, ReduceLROnPlateau"
      ],
      "execution_count": 0,
      "outputs": []
    },
    {
      "cell_type": "code",
      "metadata": {
        "id": "a8KxWAuwZUHE",
        "colab_type": "code",
        "colab": {}
      },
      "source": [
        "from keras.utils import *"
      ],
      "execution_count": 0,
      "outputs": []
    },
    {
      "cell_type": "code",
      "metadata": {
        "id": "dGXpvnPZYHwk",
        "colab_type": "code",
        "colab": {}
      },
      "source": [
        "train_frame_path = '/content/drive/My Drive/Gleason-master/train_frames/train'\n",
        "\n",
        "train_mask_path = '/content/drive/My Drive/Gleason-master/train_masks/train'\n",
        "\n",
        "val_frame_path = '/content/drive/My Drive/Gleason-master/val_frames/val'\n",
        "val_mask_path = '/content/drive/My Drive/Gleason-master/val_masks/val'\n"
      ],
      "execution_count": 0,
      "outputs": []
    },
    {
      "cell_type": "code",
      "metadata": {
        "id": "Hz2uTUzYZGRr",
        "colab_type": "code",
        "colab": {}
      },
      "source": [
        "def data_gen(img_folder, mask_folder, batch_size):\n",
        "    c = 0\n",
        "    n = os.listdir(img_folder) #List of training images\n",
        "    m = os.listdir(mask_folder) #List of training masks\n",
        "    random.shuffle(n)\n",
        "    \n",
        "    while (True):\n",
        "      img = np.zeros((batch_size, 512, 512, 3)).astype('float')\n",
        "      mask = np.zeros((batch_size, 512, 512, 6)).astype('float')\n",
        "\n",
        "      for i in range(c, c+batch_size): #initially from 0 to 16, c = 0. \n",
        "        train_img = cv2.imread(img_folder+'/'+n[i])/255.\n",
        "        train_img =  cv2.resize(train_img, (512, 512))# Read an image from folder and resize\n",
        "      \n",
        "        img[i-c] = train_img #add to array - img[0], img[1], and so on.\n",
        "                                                   \n",
        "\n",
        "        train_mask = cv2.imread(mask_folder+'/'+m[i], cv2.IMREAD_GRAYSCALE)/255.\n",
        "        train_mask = cv2.resize(train_mask, (512, 512))\n",
        "        train_mask = train_mask.reshape(512, 512, 1) # Add extra dimension for parity with train_img size [512 * 512 * 3]\n",
        "        train_mask = to_categorical(train_mask, 6)\n",
        "    \n",
        "        mask[i-c] = train_mask\n",
        "\n",
        "      c = c+batch_size\n",
        "      if(c+batch_size>=len(os.listdir(img_folder))):\n",
        "        c=0\n",
        "        random.shuffle(n)\n",
        "      yield img, mask"
      ],
      "execution_count": 0,
      "outputs": []
    },
    {
      "cell_type": "code",
      "metadata": {
        "id": "1YVoGqcSZP6E",
        "colab_type": "code",
        "colab": {}
      },
      "source": [
        "# Train the model\n",
        "train_gen = data_gen(train_frame_path,train_mask_path, batch_size = 4)\n",
        "val_gen = data_gen(val_frame_path,val_mask_path, batch_size = 4)"
      ],
      "execution_count": 0,
      "outputs": []
    },
    {
      "cell_type": "markdown",
      "metadata": {
        "id": "G17QEbvlaWbN",
        "colab_type": "text"
      },
      "source": [
        "## **Defining** U-Net model for semantic segmentation\n",
        "\n",
        "\n",
        "---\n",
        "\n"
      ]
    },
    {
      "cell_type": "code",
      "metadata": {
        "id": "ZYUIHYwfSGOT",
        "colab_type": "code",
        "colab": {}
      },
      "source": [
        "def tversky_loss(y_true, y_pred):\n",
        "  alpha = 0.5\n",
        "  beta  = 0.5\n",
        "    \n",
        "  ones = K.ones(K.shape(y_true))\n",
        "  p0 = y_pred      # proba that voxels are class i\n",
        "  p1 = ones-y_pred # proba that voxels are not class i\n",
        "  g0 = y_true\n",
        "  g1 = ones-y_true\n",
        "    \n",
        "  num = K.sum(p0*g0, (0,1,2,3))\n",
        "  den = num + alpha*K.sum(p0*g1,(0,1,2,3)) + beta*K.sum(p1*g0,(0,1,2,3))\n",
        "    \n",
        "  T = K.sum(num/den) # when summing over classes, T has dynamic range [0 Ncl]\n",
        "    \n",
        "  Ncl = K.cast(K.shape(y_true)[-1], 'float32')\n",
        "  return Ncl-T"
      ],
      "execution_count": 0,
      "outputs": []
    },
    {
      "cell_type": "code",
      "metadata": {
        "id": "nvR8l3O1SlFT",
        "colab_type": "code",
        "colab": {}
      },
      "source": [
        "def dice_coef(y_true, y_pred):\n",
        "  y_true_f = K.flatten(y_true)\n",
        "  y_pred_f = K.flatten(y_pred)\n",
        "  intersection = K.sum(y_true_f * y_pred_f)\n",
        "  return (2. * intersection + smooth) / (K.sum(y_true_f*y_true_f) + K.sum(y_pred_f*y_pred_f) + smooth)\n",
        "\n",
        "\n",
        "def dice_coef_loss(y_true, y_pred):\n",
        "  return 1.-dice_coef(y_true, y_pred)"
      ],
      "execution_count": 0,
      "outputs": []
    },
    {
      "cell_type": "code",
      "metadata": {
        "id": "e2eQ215ycWzV",
        "colab_type": "code",
        "outputId": "c846fd34-624c-4056-fb83-58fa25b9c4da",
        "colab": {
          "base_uri": "https://localhost:8080/",
          "height": 1000
        }
      },
      "source": [
        "import tensorflow as tf\n",
        "\n",
        "\n",
        "IMG_WIDTH = 512\n",
        "IMG_HEIGHT = 512\n",
        "IMG_CHANNELS = 3\n",
        "\n",
        "batch_shape=(512,512,3)\n",
        "#inputs = Input(batch_shape=(4, 512, 512, 3))\n",
        "#Build the model\n",
        "inputs = tf.keras.layers.Input((IMG_HEIGHT, IMG_WIDTH, IMG_CHANNELS))\n",
        "#s = tf.keras.layers.Lambda(lambda x: x / 255)(inputs)\n",
        "\n",
        "#Contraction path\n",
        "c1 = tf.keras.layers.Conv2D(16, (3, 3), activation='relu', kernel_initializer='he_normal', padding='same')(inputs)\n",
        "c1 = tf.keras.layers.Dropout(0.1)(c1)\n",
        "c1 = tf.keras.layers.Conv2D(16, (3, 3), activation='relu', kernel_initializer='he_normal', padding='same')(c1)\n",
        "p1 = tf.keras.layers.MaxPooling2D((2, 2))(c1)\n",
        "\n",
        "c2 = tf.keras.layers.Conv2D(32, (3, 3), activation='relu', kernel_initializer='he_normal', padding='same')(p1)\n",
        "c2 = tf.keras.layers.Dropout(0.1)(c2)\n",
        "c2 = tf.keras.layers.Conv2D(32, (3, 3), activation='relu', kernel_initializer='he_normal', padding='same')(c2)\n",
        "p2 = tf.keras.layers.MaxPooling2D((2, 2))(c2)\n",
        " \n",
        "c3 = tf.keras.layers.Conv2D(64, (3, 3), activation='relu', kernel_initializer='he_normal', padding='same')(p2)\n",
        "c3 = tf.keras.layers.Dropout(0.2)(c3)\n",
        "c3 = tf.keras.layers.Conv2D(64, (3, 3), activation='relu', kernel_initializer='he_normal', padding='same')(c3)\n",
        "p3 = tf.keras.layers.MaxPooling2D((2, 2))(c3)\n",
        " \n",
        "c4 = tf.keras.layers.Conv2D(128, (3, 3), activation='relu', kernel_initializer='he_normal', padding='same')(p3)\n",
        "c4 = tf.keras.layers.Dropout(0.2)(c4)\n",
        "c4 = tf.keras.layers.Conv2D(128, (3, 3), activation='relu', kernel_initializer='he_normal', padding='same')(c4)\n",
        "p4 = tf.keras.layers.MaxPooling2D(pool_size=(2, 2))(c4)\n",
        " \n",
        "c5 = tf.keras.layers.Conv2D(256, (3, 3), activation='relu', kernel_initializer='he_normal', padding='same')(p4)\n",
        "c5 = tf.keras.layers.Dropout(0.3)(c5)\n",
        "c5 = tf.keras.layers.Conv2D(256, (3, 3), activation='relu', kernel_initializer='he_normal', padding='same')(c5)\n",
        "\n",
        "#Expansive path \n",
        "u6 = tf.keras.layers.Conv2DTranspose(128, (2, 2), strides=(2, 2), padding='same')(c5)\n",
        "u6 = tf.keras.layers.concatenate([u6, c4])\n",
        "c6 = tf.keras.layers.Conv2D(128, (3, 3), activation='relu', kernel_initializer='he_normal', padding='same')(u6)\n",
        "c6 = tf.keras.layers.Dropout(0.2)(c6)\n",
        "c6 = tf.keras.layers.Conv2D(128, (3, 3), activation='relu', kernel_initializer='he_normal', padding='same')(c6)\n",
        " \n",
        "u7 = tf.keras.layers.Conv2DTranspose(64, (2, 2), strides=(2, 2), padding='same')(c6)\n",
        "u7 = tf.keras.layers.concatenate([u7, c3])\n",
        "c7 = tf.keras.layers.Conv2D(64, (3, 3), activation='relu', kernel_initializer='he_normal', padding='same')(u7)\n",
        "c7 = tf.keras.layers.Dropout(0.2)(c7)\n",
        "c7 = tf.keras.layers.Conv2D(64, (3, 3), activation='relu', kernel_initializer='he_normal', padding='same')(c7)\n",
        " \n",
        "u8 = tf.keras.layers.Conv2DTranspose(32, (2, 2), strides=(2, 2), padding='same')(c7)\n",
        "u8 = tf.keras.layers.concatenate([u8, c2])\n",
        "c8 = tf.keras.layers.Conv2D(32, (3, 3), activation='relu', kernel_initializer='he_normal', padding='same')(u8)\n",
        "c8 = tf.keras.layers.Dropout(0.1)(c8)\n",
        "c8 = tf.keras.layers.Conv2D(32, (3, 3), activation='relu', kernel_initializer='he_normal', padding='same')(c8)\n",
        " \n",
        "u9 = tf.keras.layers.Conv2DTranspose(16, (2, 2), strides=(2, 2), padding='same')(c8)\n",
        "u9 = tf.keras.layers.concatenate([u9, c1], axis=3)\n",
        "c9 = tf.keras.layers.Conv2D(16, (3, 3), activation='relu', kernel_initializer='he_normal', padding='same')(u9)\n",
        "c9 = tf.keras.layers.Dropout(0.1)(c9)\n",
        "c9 = tf.keras.layers.Conv2D(16, (3, 3), activation='relu', kernel_initializer='he_normal', padding='same')(c9)\n",
        " \n",
        "outputs = tf.keras.layers.Conv2D(6, (1, 1), activation='softmax')(c9)\n",
        " \n",
        "model = tf.keras.Model(inputs=[inputs], outputs=[outputs])\n",
        "model.compile(optimizer='adam', loss='categorical_crossentropy', metrics=['accuracy'])\n",
        "model.summary()"
      ],
      "execution_count": 0,
      "outputs": [
        {
          "output_type": "stream",
          "text": [
            "Model: \"model_3\"\n",
            "__________________________________________________________________________________________________\n",
            "Layer (type)                    Output Shape         Param #     Connected to                     \n",
            "==================================================================================================\n",
            "input_4 (InputLayer)            [(None, 512, 512, 3) 0                                            \n",
            "__________________________________________________________________________________________________\n",
            "conv2d_57 (Conv2D)              (None, 512, 512, 16) 448         input_4[0][0]                    \n",
            "__________________________________________________________________________________________________\n",
            "dropout_27 (Dropout)            (None, 512, 512, 16) 0           conv2d_57[0][0]                  \n",
            "__________________________________________________________________________________________________\n",
            "conv2d_58 (Conv2D)              (None, 512, 512, 16) 2320        dropout_27[0][0]                 \n",
            "__________________________________________________________________________________________________\n",
            "max_pooling2d_12 (MaxPooling2D) (None, 256, 256, 16) 0           conv2d_58[0][0]                  \n",
            "__________________________________________________________________________________________________\n",
            "conv2d_59 (Conv2D)              (None, 256, 256, 32) 4640        max_pooling2d_12[0][0]           \n",
            "__________________________________________________________________________________________________\n",
            "dropout_28 (Dropout)            (None, 256, 256, 32) 0           conv2d_59[0][0]                  \n",
            "__________________________________________________________________________________________________\n",
            "conv2d_60 (Conv2D)              (None, 256, 256, 32) 9248        dropout_28[0][0]                 \n",
            "__________________________________________________________________________________________________\n",
            "max_pooling2d_13 (MaxPooling2D) (None, 128, 128, 32) 0           conv2d_60[0][0]                  \n",
            "__________________________________________________________________________________________________\n",
            "conv2d_61 (Conv2D)              (None, 128, 128, 64) 18496       max_pooling2d_13[0][0]           \n",
            "__________________________________________________________________________________________________\n",
            "dropout_29 (Dropout)            (None, 128, 128, 64) 0           conv2d_61[0][0]                  \n",
            "__________________________________________________________________________________________________\n",
            "conv2d_62 (Conv2D)              (None, 128, 128, 64) 36928       dropout_29[0][0]                 \n",
            "__________________________________________________________________________________________________\n",
            "max_pooling2d_14 (MaxPooling2D) (None, 64, 64, 64)   0           conv2d_62[0][0]                  \n",
            "__________________________________________________________________________________________________\n",
            "conv2d_63 (Conv2D)              (None, 64, 64, 128)  73856       max_pooling2d_14[0][0]           \n",
            "__________________________________________________________________________________________________\n",
            "dropout_30 (Dropout)            (None, 64, 64, 128)  0           conv2d_63[0][0]                  \n",
            "__________________________________________________________________________________________________\n",
            "conv2d_64 (Conv2D)              (None, 64, 64, 128)  147584      dropout_30[0][0]                 \n",
            "__________________________________________________________________________________________________\n",
            "max_pooling2d_15 (MaxPooling2D) (None, 32, 32, 128)  0           conv2d_64[0][0]                  \n",
            "__________________________________________________________________________________________________\n",
            "conv2d_65 (Conv2D)              (None, 32, 32, 256)  295168      max_pooling2d_15[0][0]           \n",
            "__________________________________________________________________________________________________\n",
            "dropout_31 (Dropout)            (None, 32, 32, 256)  0           conv2d_65[0][0]                  \n",
            "__________________________________________________________________________________________________\n",
            "conv2d_66 (Conv2D)              (None, 32, 32, 256)  590080      dropout_31[0][0]                 \n",
            "__________________________________________________________________________________________________\n",
            "conv2d_transpose_12 (Conv2DTran (None, 64, 64, 128)  131200      conv2d_66[0][0]                  \n",
            "__________________________________________________________________________________________________\n",
            "concatenate_12 (Concatenate)    (None, 64, 64, 256)  0           conv2d_transpose_12[0][0]        \n",
            "                                                                 conv2d_64[0][0]                  \n",
            "__________________________________________________________________________________________________\n",
            "conv2d_67 (Conv2D)              (None, 64, 64, 128)  295040      concatenate_12[0][0]             \n",
            "__________________________________________________________________________________________________\n",
            "dropout_32 (Dropout)            (None, 64, 64, 128)  0           conv2d_67[0][0]                  \n",
            "__________________________________________________________________________________________________\n",
            "conv2d_68 (Conv2D)              (None, 64, 64, 128)  147584      dropout_32[0][0]                 \n",
            "__________________________________________________________________________________________________\n",
            "conv2d_transpose_13 (Conv2DTran (None, 128, 128, 64) 32832       conv2d_68[0][0]                  \n",
            "__________________________________________________________________________________________________\n",
            "concatenate_13 (Concatenate)    (None, 128, 128, 128 0           conv2d_transpose_13[0][0]        \n",
            "                                                                 conv2d_62[0][0]                  \n",
            "__________________________________________________________________________________________________\n",
            "conv2d_69 (Conv2D)              (None, 128, 128, 64) 73792       concatenate_13[0][0]             \n",
            "__________________________________________________________________________________________________\n",
            "dropout_33 (Dropout)            (None, 128, 128, 64) 0           conv2d_69[0][0]                  \n",
            "__________________________________________________________________________________________________\n",
            "conv2d_70 (Conv2D)              (None, 128, 128, 64) 36928       dropout_33[0][0]                 \n",
            "__________________________________________________________________________________________________\n",
            "conv2d_transpose_14 (Conv2DTran (None, 256, 256, 32) 8224        conv2d_70[0][0]                  \n",
            "__________________________________________________________________________________________________\n",
            "concatenate_14 (Concatenate)    (None, 256, 256, 64) 0           conv2d_transpose_14[0][0]        \n",
            "                                                                 conv2d_60[0][0]                  \n",
            "__________________________________________________________________________________________________\n",
            "conv2d_71 (Conv2D)              (None, 256, 256, 32) 18464       concatenate_14[0][0]             \n",
            "__________________________________________________________________________________________________\n",
            "dropout_34 (Dropout)            (None, 256, 256, 32) 0           conv2d_71[0][0]                  \n",
            "__________________________________________________________________________________________________\n",
            "conv2d_72 (Conv2D)              (None, 256, 256, 32) 9248        dropout_34[0][0]                 \n",
            "__________________________________________________________________________________________________\n",
            "conv2d_transpose_15 (Conv2DTran (None, 512, 512, 16) 2064        conv2d_72[0][0]                  \n",
            "__________________________________________________________________________________________________\n",
            "concatenate_15 (Concatenate)    (None, 512, 512, 32) 0           conv2d_transpose_15[0][0]        \n",
            "                                                                 conv2d_58[0][0]                  \n",
            "__________________________________________________________________________________________________\n",
            "conv2d_73 (Conv2D)              (None, 512, 512, 16) 4624        concatenate_15[0][0]             \n",
            "__________________________________________________________________________________________________\n",
            "dropout_35 (Dropout)            (None, 512, 512, 16) 0           conv2d_73[0][0]                  \n",
            "__________________________________________________________________________________________________\n",
            "conv2d_74 (Conv2D)              (None, 512, 512, 16) 2320        dropout_35[0][0]                 \n",
            "__________________________________________________________________________________________________\n",
            "conv2d_75 (Conv2D)              (None, 512, 512, 6)  102         conv2d_74[0][0]                  \n",
            "==================================================================================================\n",
            "Total params: 1,941,190\n",
            "Trainable params: 1,941,190\n",
            "Non-trainable params: 0\n",
            "__________________________________________________________________________________________________\n"
          ],
          "name": "stdout"
        }
      ]
    },
    {
      "cell_type": "markdown",
      "metadata": {
        "id": "ZXc1EwAabH8f",
        "colab_type": "text"
      },
      "source": [
        "# Define model callback settings\n"
      ]
    },
    {
      "cell_type": "code",
      "metadata": {
        "id": "GPC4GA7fbUAz",
        "colab_type": "code",
        "colab": {}
      },
      "source": [
        "#tb = TensorBoard(log_dir='logs', write_graph=True)\n",
        "#mc = ModelCheckpoint(mode='max', filepath='prostate.h5', monitor='accuracy', save_best_only='True', save_weights_only='True', verbose=1)\n",
        "#es = EarlyStopping(mode='max', monitor='val_accuracy', patience=10, verbose=1)\n",
        "#callbacks = [tb, mc, es]"
      ],
      "execution_count": 0,
      "outputs": []
    },
    {
      "cell_type": "code",
      "metadata": {
        "id": "Gf0DJneiecHr",
        "colab_type": "code",
        "colab": {}
      },
      "source": [
        "no_of_training_images = 200\n",
        "no_of_validation_images = 44\n"
      ],
      "execution_count": 0,
      "outputs": []
    },
    {
      "cell_type": "code",
      "metadata": {
        "id": "nWXRDVK0eksM",
        "colab_type": "code",
        "outputId": "4554b943-4528-4769-c341-6a06085148aa",
        "colab": {
          "base_uri": "https://localhost:8080/",
          "height": 187
        }
      },
      "source": [
        "batch_size = 4\n",
        "\n",
        "\n",
        "results = model.fit_generator(train_gen, epochs=5, \n",
        "                          steps_per_epoch = (no_of_training_images//batch_size),\n",
        "                          validation_data=val_gen, \n",
        "                          validation_steps=(no_of_validation_images//batch_size), verbose=1)"
      ],
      "execution_count": 0,
      "outputs": [
        {
          "output_type": "stream",
          "text": [
            "Epoch 1/5\n",
            "50/50 [==============================] - 1539s 31s/step - loss: 0.2199 - accuracy: 0.9127 - val_loss: 9.5001e-06 - val_accuracy: 1.0000\n",
            "Epoch 2/5\n",
            "50/50 [==============================] - 690s 14s/step - loss: 5.6109e-05 - accuracy: 1.0000 - val_loss: 1.1015e-05 - val_accuracy: 1.0000\n",
            "Epoch 3/5\n",
            "50/50 [==============================] - 683s 14s/step - loss: 2.9896e-05 - accuracy: 1.0000 - val_loss: 1.0951e-05 - val_accuracy: 1.0000\n",
            "Epoch 4/5\n",
            "50/50 [==============================] - 677s 14s/step - loss: 2.3671e-05 - accuracy: 1.0000 - val_loss: 5.8782e-06 - val_accuracy: 1.0000\n",
            "Epoch 5/5\n",
            "50/50 [==============================] - 680s 14s/step - loss: 1.6906e-05 - accuracy: 1.0000 - val_loss: 3.3387e-06 - val_accuracy: 1.0000\n"
          ],
          "name": "stdout"
        }
      ]
    },
    {
      "cell_type": "code",
      "metadata": {
        "id": "fPwEN6Gyenk1",
        "colab_type": "code",
        "colab": {}
      },
      "source": [
        "model.save('Model.h5')"
      ],
      "execution_count": 0,
      "outputs": []
    },
    {
      "cell_type": "code",
      "metadata": {
        "id": "gT4V7WgbepsH",
        "colab_type": "code",
        "outputId": "0705d469-6dd3-4bb2-9f23-a3df6e3f677f",
        "colab": {
          "base_uri": "https://localhost:8080/",
          "height": 34
        }
      },
      "source": [
        "pwd"
      ],
      "execution_count": 0,
      "outputs": [
        {
          "output_type": "execute_result",
          "data": {
            "text/plain": [
              "'/content'"
            ]
          },
          "metadata": {
            "tags": []
          },
          "execution_count": 1
        }
      ]
    },
    {
      "cell_type": "code",
      "metadata": {
        "id": "MgKttuR3fV_x",
        "colab_type": "code",
        "colab": {}
      },
      "source": [
        ""
      ],
      "execution_count": 0,
      "outputs": []
    }
  ]
}