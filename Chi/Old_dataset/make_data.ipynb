{
 "cells": [
  {
   "cell_type": "code",
   "execution_count": 1,
   "metadata": {},
   "outputs": [],
   "source": [
    "import os\n",
    "import os.path as osp\n",
    "import random\n",
    "import re\n",
    "from PIL import Image"
   ]
  },
  {
   "cell_type": "code",
   "execution_count": 2,
   "metadata": {},
   "outputs": [],
   "source": [
    "from IPython.core.interactiveshell import InteractiveShell\n",
    "InteractiveShell.ast_node_interactivity = \"all\""
   ]
  },
  {
   "cell_type": "code",
   "execution_count": 3,
   "metadata": {},
   "outputs": [],
   "source": [
    "DATA_PATH = '/Users/phuongchi/Documents/GLEASON_2019/Gleason-master'\n",
    "FRAME_PATH = DATA_PATH+'/Train_imgs'\n",
    "MASK_PATH = DATA_PATH+'/final_masks'"
   ]
  },
  {
   "cell_type": "code",
   "execution_count": 4,
   "metadata": {},
   "outputs": [
    {
     "data": {
      "text/plain": [
       "'/Users/phuongchi/Documents/GLEASON_2019/Gleason-master'"
      ]
     },
     "execution_count": 4,
     "metadata": {},
     "output_type": "execute_result"
    },
    {
     "data": {
      "text/plain": [
       "'/Users/phuongchi/Documents/GLEASON_2019/Gleason-master/Train_imgs'"
      ]
     },
     "execution_count": 4,
     "metadata": {},
     "output_type": "execute_result"
    },
    {
     "data": {
      "text/plain": [
       "'/Users/phuongchi/Documents/GLEASON_2019/Gleason-master/final_masks'"
      ]
     },
     "execution_count": 4,
     "metadata": {},
     "output_type": "execute_result"
    }
   ],
   "source": [
    "DATA_PATH\n",
    "FRAME_PATH\n",
    "MASK_PATH"
   ]
  },
  {
   "cell_type": "code",
   "execution_count": 16,
   "metadata": {},
   "outputs": [],
   "source": [
    "# Get all frames and masks, sort them, shuffle them to generate data sets.\n",
    "\n",
    "all_frames = os.listdir(FRAME_PATH)\n",
    "all_masks = os.listdir(MASK_PATH)"
   ]
  },
  {
   "cell_type": "code",
   "execution_count": 6,
   "metadata": {},
   "outputs": [
    {
     "data": {
      "text/plain": [
       "244"
      ]
     },
     "execution_count": 6,
     "metadata": {},
     "output_type": "execute_result"
    },
    {
     "data": {
      "text/plain": [
       "247"
      ]
     },
     "execution_count": 6,
     "metadata": {},
     "output_type": "execute_result"
    }
   ],
   "source": [
    "#check number of images in frames and masks to see if they are tally\n",
    "len(all_frames)\n",
    "len(all_masks)"
   ]
  },
  {
   "cell_type": "markdown",
   "metadata": {},
   "source": [
    "There are 3 masks that do not have core/frame images"
   ]
  },
  {
   "cell_type": "code",
   "execution_count": 7,
   "metadata": {},
   "outputs": [],
   "source": [
    "#sorting all_frames and all_masks lists\n",
    "all_frames.sort(key=lambda var:[int(x) if x.isdigit() else x \n",
    "                                for x in re.findall(r'[^0-9]|[0-9]+', var)])\n",
    "all_masks.sort(key=lambda var:[int(x) if x.isdigit() else x \n",
    "                               for x in re.findall(r'[^0-9]|[0-9]+', var)])"
   ]
  },
  {
   "cell_type": "code",
   "execution_count": 16,
   "metadata": {},
   "outputs": [],
   "source": [
    "random.seed(230)\n",
    "random.shuffle(all_frames)"
   ]
  },
  {
   "cell_type": "code",
   "execution_count": 8,
   "metadata": {},
   "outputs": [],
   "source": [
    "#removing the extension parts in all_frames and all_masks\n",
    "\n",
    "frame_list=[f[:-4] for f in all_frames]\n",
    "mask_list =[m[0:16] for m in all_masks]"
   ]
  },
  {
   "cell_type": "code",
   "execution_count": 10,
   "metadata": {},
   "outputs": [
    {
     "data": {
      "text/plain": [
       "['slide001_core003',\n",
       " 'slide001_core004',\n",
       " 'slide001_core005',\n",
       " 'slide001_core006',\n",
       " 'slide001_core007']"
      ]
     },
     "execution_count": 10,
     "metadata": {},
     "output_type": "execute_result"
    },
    {
     "data": {
      "text/plain": [
       "['slide001_core003',\n",
       " 'slide001_core004',\n",
       " 'slide001_core005',\n",
       " 'slide001_core006',\n",
       " 'slide001_core007']"
      ]
     },
     "execution_count": 10,
     "metadata": {},
     "output_type": "execute_result"
    }
   ],
   "source": [
    "frame_list[:5]\n",
    "mask_list[:5]"
   ]
  },
  {
   "cell_type": "code",
   "execution_count": 9,
   "metadata": {},
   "outputs": [
    {
     "data": {
      "text/plain": [
       "244"
      ]
     },
     "execution_count": 9,
     "metadata": {},
     "output_type": "execute_result"
    },
    {
     "data": {
      "text/plain": [
       "247"
      ]
     },
     "execution_count": 9,
     "metadata": {},
     "output_type": "execute_result"
    }
   ],
   "source": [
    "len(frame_list)\n",
    "len(mask_list)"
   ]
  },
  {
   "cell_type": "markdown",
   "metadata": {},
   "source": [
    "There are 3 masks that do not have core/frame images"
   ]
  },
  {
   "cell_type": "markdown",
   "metadata": {},
   "source": [
    "**Check to identify which masks do not have cores**"
   ]
  },
  {
   "cell_type": "code",
   "execution_count": 11,
   "metadata": {},
   "outputs": [
    {
     "data": {
      "text/plain": [
       "['slide007_core137_classimg_nonconvex.png',\n",
       " 'slide007_core145_classimg_nonconvex.png',\n",
       " 'slide006_core137_classimg_nonconvex.png']"
      ]
     },
     "execution_count": 11,
     "metadata": {},
     "output_type": "execute_result"
    }
   ],
   "source": [
    "no_frame=list(set(mask_list) - set(frame_list))\n",
    "no_frame=[m+'_classimg_nonconvex.png' for m in no_frame]\n",
    "no_frame"
   ]
  },
  {
   "cell_type": "code",
   "execution_count": null,
   "metadata": {},
   "outputs": [],
   "source": [
    "#remove these masks without frames in final_mask\n",
    "for item in no_frame:\n",
    "    os.remove(MASK_PATH+'/'+item)"
   ]
  },
  {
   "cell_type": "code",
   "execution_count": 18,
   "metadata": {},
   "outputs": [
    {
     "data": {
      "text/plain": [
       "244"
      ]
     },
     "execution_count": 18,
     "metadata": {},
     "output_type": "execute_result"
    },
    {
     "data": {
      "text/plain": [
       "244"
      ]
     },
     "execution_count": 18,
     "metadata": {},
     "output_type": "execute_result"
    }
   ],
   "source": [
    "#check again number of images in frames and masks to confirm they are tally \n",
    "\n",
    "all_frames = os.listdir(FRAME_PATH)\n",
    "all_masks = os.listdir(MASK_PATH)\n",
    "\n",
    "len(all_masks)\n",
    "len(all_frames)"
   ]
  },
  {
   "cell_type": "markdown",
   "metadata": {},
   "source": [
    "#  Creating folder structure common for Computer Vision problems\n"
   ]
  },
  {
   "cell_type": "code",
   "execution_count": 19,
   "metadata": {},
   "outputs": [
    {
     "data": {
      "text/plain": [
       "'/Users/phuongchi/Documents/GLEASON_2019/Gleason-master'"
      ]
     },
     "execution_count": 19,
     "metadata": {},
     "output_type": "execute_result"
    }
   ],
   "source": [
    "pwd"
   ]
  },
  {
   "cell_type": "code",
   "execution_count": 40,
   "metadata": {},
   "outputs": [],
   "source": [
    "DATA_PATH = '/Users/phuongchi/Documents/GLEASON_2019/Gleason-master/'"
   ]
  },
  {
   "cell_type": "code",
   "execution_count": 21,
   "metadata": {},
   "outputs": [],
   "source": [
    "# Create folders to hold images and masks\n",
    "\n",
    "folders = ['train_frames/train', 'train_masks/train', 'val_frames/val', 'val_masks/val']\n",
    "\n",
    "\n",
    "for folder in folders:\n",
    "    try:\n",
    "        os.makedirs(DATA_PATH + folder)\n",
    "    except Exception as e: print(e)"
   ]
  },
  {
   "cell_type": "code",
   "execution_count": 58,
   "metadata": {},
   "outputs": [],
   "source": [
    "img_dir ='/Users/phuongchi/Documents/GLEASON_2019/Gleason-master/Train_Imgs'\n",
    "mask_dir ='/Users/phuongchi/Documents/GLEASON_2019/Gleason-master/final_masks'"
   ]
  },
  {
   "cell_type": "code",
   "execution_count": 59,
   "metadata": {},
   "outputs": [],
   "source": [
    "frames_list = [f for f in os.listdir(img_dir) if os.path.isfile(os.path.join(img_dir, f))]\n",
    "masks_list = [f for f in os.listdir(mask_dir) if os.path.isfile(os.path.join(mask_dir, f))]"
   ]
  },
  {
   "cell_type": "code",
   "execution_count": 60,
   "metadata": {},
   "outputs": [],
   "source": [
    "#Sorting frames_list and masks_list\n",
    "\n",
    "frames_list.sort(key=lambda var:[int(x) if x.isdigit() else x \n",
    "                                for x in re.findall(r'[^0-9]|[0-9]+', var)])\n",
    "masks_list.sort(key=lambda var:[int(x) if x.isdigit() else x \n",
    "                               for x in re.findall(r'[^0-9]|[0-9]+', var)])"
   ]
  },
  {
   "cell_type": "code",
   "execution_count": 61,
   "metadata": {},
   "outputs": [],
   "source": [
    "import random"
   ]
  },
  {
   "cell_type": "code",
   "execution_count": 62,
   "metadata": {},
   "outputs": [],
   "source": [
    "#shuffle frames_list before splitting the data to train and validation set\n",
    "\n",
    "random.seed(230)\n",
    "random.shuffle(frames_list)"
   ]
  },
  {
   "cell_type": "code",
   "execution_count": 63,
   "metadata": {},
   "outputs": [
    {
     "data": {
      "text/plain": [
       "['slide001_core059.jpg',\n",
       " 'slide007_core002.jpg',\n",
       " 'slide002_core139.jpg',\n",
       " 'slide002_core082.jpg',\n",
       " 'slide001_core006.jpg',\n",
       " 'slide006_core125.jpg',\n",
       " 'slide006_core016.jpg',\n",
       " 'slide002_core116.jpg',\n",
       " 'slide002_core010.jpg',\n",
       " 'slide005_core101.jpg',\n",
       " 'slide002_core062.jpg',\n",
       " 'slide006_core044.jpg',\n",
       " 'slide001_core159.jpg',\n",
       " 'slide002_core150.jpg',\n",
       " 'slide003_core065.jpg',\n",
       " 'slide006_core155.jpg',\n",
       " 'slide003_core023.jpg',\n",
       " 'slide005_core092.jpg',\n",
       " 'slide002_core052.jpg',\n",
       " 'slide007_core150.jpg',\n",
       " 'slide007_core093.jpg',\n",
       " 'slide007_core015.jpg',\n",
       " 'slide007_core014.jpg',\n",
       " 'slide006_core136.jpg',\n",
       " 'slide006_core116.jpg',\n",
       " 'slide006_core115.jpg',\n",
       " 'slide002_core072.jpg',\n",
       " 'slide006_core046.jpg',\n",
       " 'slide002_core080.jpg',\n",
       " 'slide007_core013.jpg',\n",
       " 'slide001_core146.jpg',\n",
       " 'slide005_core041.jpg',\n",
       " 'slide005_core063.jpg',\n",
       " 'slide006_core113.jpg',\n",
       " 'slide005_core094.jpg',\n",
       " 'slide001_core109.jpg',\n",
       " 'slide003_core067.jpg',\n",
       " 'slide002_core042.jpg',\n",
       " 'slide001_core011.jpg',\n",
       " 'slide002_core056.jpg',\n",
       " 'slide003_core055.jpg',\n",
       " 'slide005_core033.jpg',\n",
       " 'slide002_core055.jpg',\n",
       " 'slide006_core029.jpg',\n",
       " 'slide001_core098.jpg',\n",
       " 'slide002_core144.jpg',\n",
       " 'slide006_core083.jpg',\n",
       " 'slide001_core004.jpg',\n",
       " 'slide001_core049.jpg',\n",
       " 'slide003_core046.jpg',\n",
       " 'slide005_core093.jpg',\n",
       " 'slide002_core124.jpg',\n",
       " 'slide006_core105.jpg',\n",
       " 'slide007_core048.jpg',\n",
       " 'slide003_core069.jpg',\n",
       " 'slide001_core067.jpg',\n",
       " 'slide005_core159.jpg',\n",
       " 'slide003_core095.jpg',\n",
       " 'slide005_core102.jpg',\n",
       " 'slide007_core047.jpg',\n",
       " 'slide003_core134.jpg',\n",
       " 'slide001_core160.jpg',\n",
       " 'slide001_core079.jpg',\n",
       " 'slide006_core082.jpg',\n",
       " 'slide003_core056.jpg',\n",
       " 'slide005_core118.jpg',\n",
       " 'slide002_core025.jpg',\n",
       " 'slide001_core010.jpg',\n",
       " 'slide006_core110.jpg',\n",
       " 'slide007_core008.jpg',\n",
       " 'slide001_core038.jpg',\n",
       " 'slide002_core123.jpg',\n",
       " 'slide006_core058.jpg',\n",
       " 'slide005_core122.jpg',\n",
       " 'slide001_core014.jpg',\n",
       " 'slide001_core046.jpg',\n",
       " 'slide001_core030.jpg',\n",
       " 'slide001_core008.jpg',\n",
       " 'slide005_core104.jpg',\n",
       " 'slide007_core149.jpg',\n",
       " 'slide006_core086.jpg',\n",
       " 'slide006_core120.jpg',\n",
       " 'slide002_core081.jpg',\n",
       " 'slide006_core108.jpg',\n",
       " 'slide005_core090.jpg',\n",
       " 'slide001_core055.jpg',\n",
       " 'slide005_core064.jpg',\n",
       " 'slide006_core007.jpg',\n",
       " 'slide002_core096.jpg',\n",
       " 'slide002_core050.jpg',\n",
       " 'slide003_core136.jpg',\n",
       " 'slide003_core080.jpg',\n",
       " 'slide001_core039.jpg',\n",
       " 'slide003_core010.jpg',\n",
       " 'slide007_core078.jpg',\n",
       " 'slide007_core038.jpg',\n",
       " 'slide003_core044.jpg',\n",
       " 'slide005_core021.jpg',\n",
       " 'slide005_core045.jpg',\n",
       " 'slide003_core107.jpg',\n",
       " 'slide001_core065.jpg',\n",
       " 'slide002_core033.jpg',\n",
       " 'slide005_core009.jpg',\n",
       " 'slide003_core098.jpg',\n",
       " 'slide002_core039.jpg',\n",
       " 'slide006_core109.jpg',\n",
       " 'slide002_core074.jpg',\n",
       " 'slide006_core071.jpg',\n",
       " 'slide001_core066.jpg',\n",
       " 'slide002_core026.jpg',\n",
       " 'slide002_core067.jpg',\n",
       " 'slide005_core087.jpg',\n",
       " 'slide007_core024.jpg',\n",
       " 'slide003_core096.jpg',\n",
       " 'slide005_core057.jpg',\n",
       " 'slide005_core051.jpg',\n",
       " 'slide005_core038.jpg',\n",
       " 'slide001_core005.jpg',\n",
       " 'slide003_core031.jpg',\n",
       " 'slide006_core003.jpg',\n",
       " 'slide003_core117.jpg',\n",
       " 'slide005_core147.jpg',\n",
       " 'slide005_core140.jpg',\n",
       " 'slide006_core010.jpg',\n",
       " 'slide003_core038.jpg',\n",
       " 'slide007_core005.jpg',\n",
       " 'slide003_core077.jpg',\n",
       " 'slide001_core070.jpg',\n",
       " 'slide005_core046.jpg',\n",
       " 'slide002_core041.jpg',\n",
       " 'slide001_core134.jpg',\n",
       " 'slide001_core041.jpg',\n",
       " 'slide003_core133.jpg',\n",
       " 'slide007_core055.jpg',\n",
       " 'slide006_core012.jpg',\n",
       " 'slide001_core086.jpg',\n",
       " 'slide002_core009.jpg',\n",
       " 'slide005_core112.jpg',\n",
       " 'slide005_core069.jpg',\n",
       " 'slide003_core135.jpg',\n",
       " 'slide006_core088.jpg',\n",
       " 'slide006_core141.jpg',\n",
       " 'slide006_core023.jpg',\n",
       " 'slide006_core090.jpg',\n",
       " 'slide006_core087.jpg',\n",
       " 'slide003_core005.jpg',\n",
       " 'slide003_core045.jpg',\n",
       " 'slide001_core111.jpg',\n",
       " 'slide006_core089.jpg',\n",
       " 'slide005_core097.jpg',\n",
       " 'slide005_core131.jpg',\n",
       " 'slide005_core154.jpg',\n",
       " 'slide006_core101.jpg',\n",
       " 'slide006_core129.jpg',\n",
       " 'slide005_core073.jpg',\n",
       " 'slide005_core074.jpg',\n",
       " 'slide006_core078.jpg',\n",
       " 'slide001_core110.jpg',\n",
       " 'slide001_core018.jpg',\n",
       " 'slide005_core029.jpg',\n",
       " 'slide006_core102.jpg',\n",
       " 'slide006_core084.jpg',\n",
       " 'slide001_core069.jpg',\n",
       " 'slide001_core145.jpg',\n",
       " 'slide001_core037.jpg',\n",
       " 'slide007_core057.jpg',\n",
       " 'slide002_core012.jpg',\n",
       " 'slide005_core049.jpg',\n",
       " 'slide001_core077.jpg',\n",
       " 'slide001_core045.jpg',\n",
       " 'slide002_core030.jpg',\n",
       " 'slide003_core097.jpg',\n",
       " 'slide001_core112.jpg',\n",
       " 'slide003_core054.jpg',\n",
       " 'slide006_core114.jpg',\n",
       " 'slide002_core084.jpg',\n",
       " 'slide002_core079.jpg',\n",
       " 'slide007_core006.jpg',\n",
       " 'slide002_core145.jpg',\n",
       " 'slide007_core043.jpg',\n",
       " 'slide003_core114.jpg',\n",
       " 'slide003_core122.jpg',\n",
       " 'slide003_core092.jpg',\n",
       " 'slide005_core111.jpg',\n",
       " 'slide005_core133.jpg',\n",
       " 'slide001_core083.jpg',\n",
       " 'slide003_core075.jpg',\n",
       " 'slide003_core129.jpg',\n",
       " 'slide002_core071.jpg',\n",
       " 'slide002_core051.jpg',\n",
       " 'slide007_core146.jpg',\n",
       " 'slide005_core035.jpg',\n",
       " 'slide007_core044.jpg',\n",
       " 'slide006_core066.jpg',\n",
       " 'slide006_core142.jpg',\n",
       " 'slide001_core040.jpg',\n",
       " 'slide007_core056.jpg',\n",
       " 'slide001_core012.jpg',\n",
       " 'slide003_core004.jpg',\n",
       " 'slide002_core099.jpg',\n",
       " 'slide003_core125.jpg',\n",
       " 'slide005_core091.jpg',\n",
       " 'slide003_core068.jpg',\n",
       " 'slide005_core088.jpg',\n",
       " 'slide005_core012.jpg',\n",
       " 'slide007_core070.jpg',\n",
       " 'slide001_core095.jpg',\n",
       " 'slide002_core002.jpg',\n",
       " 'slide002_core140.jpg',\n",
       " 'slide006_core011.jpg',\n",
       " 'slide006_core100.jpg',\n",
       " 'slide002_core143.jpg',\n",
       " 'slide007_core046.jpg',\n",
       " 'slide002_core017.jpg',\n",
       " 'slide007_core107.jpg',\n",
       " 'slide006_core048.jpg',\n",
       " 'slide006_core019.jpg',\n",
       " 'slide003_core037.jpg',\n",
       " 'slide001_core003.jpg',\n",
       " 'slide005_core117.jpg',\n",
       " 'slide002_core073.jpg',\n",
       " 'slide006_core093.jpg',\n",
       " 'slide005_core034.jpg',\n",
       " 'slide005_core127.jpg',\n",
       " 'slide003_core083.jpg',\n",
       " 'slide007_core033.jpg',\n",
       " 'slide005_core017.jpg',\n",
       " 'slide007_core016.jpg',\n",
       " 'slide007_core028.jpg',\n",
       " 'slide005_core132.jpg',\n",
       " 'slide005_core018.jpg',\n",
       " 'slide001_core009.jpg',\n",
       " 'slide006_core098.jpg',\n",
       " 'slide003_core108.jpg',\n",
       " 'slide006_core004.jpg',\n",
       " 'slide001_core007.jpg',\n",
       " 'slide005_core058.jpg',\n",
       " 'slide006_core015.jpg',\n",
       " 'slide007_core031.jpg',\n",
       " 'slide006_core077.jpg',\n",
       " 'slide006_core130.jpg',\n",
       " 'slide002_core126.jpg',\n",
       " 'slide001_core156.jpg',\n",
       " 'slide006_core047.jpg']"
      ]
     },
     "execution_count": 63,
     "metadata": {},
     "output_type": "execute_result"
    }
   ],
   "source": [
    "frames_list"
   ]
  },
  {
   "cell_type": "code",
   "execution_count": null,
   "metadata": {},
   "outputs": [],
   "source": [
    "# Generate train, validation sets for frame images. This is for ratio 0.2\n",
    "\n",
    "#train_frames = frames_list[:-round(0.2*len(frames_list))]\n",
    "#val_frames = frames_list[-round(0.2*len(frames_list)):]"
   ]
  },
  {
   "cell_type": "code",
   "execution_count": 64,
   "metadata": {},
   "outputs": [],
   "source": [
    "# Generate train, validation sets for frame images\n",
    "\n",
    "train_frames = frames_list[:-44]\n",
    "val_frames = frames_list[-44:]"
   ]
  },
  {
   "cell_type": "code",
   "execution_count": 65,
   "metadata": {},
   "outputs": [],
   "source": [
    "#from the train_frames set, add in the corresponding masks set to the train_masks set\n",
    "\n",
    "train_masks=[]\n",
    "\n",
    "for mask in masks_list:\n",
    "    for frame in train_frames:\n",
    "        if mask[0:16]==frame[:-4]:\n",
    "            train_masks.append(mask)"
   ]
  },
  {
   "cell_type": "code",
   "execution_count": 66,
   "metadata": {},
   "outputs": [
    {
     "data": {
      "text/plain": [
       "200"
      ]
     },
     "execution_count": 66,
     "metadata": {},
     "output_type": "execute_result"
    },
    {
     "data": {
      "text/plain": [
       "200"
      ]
     },
     "execution_count": 66,
     "metadata": {},
     "output_type": "execute_result"
    }
   ],
   "source": [
    "len(train_masks)\n",
    "\n",
    "len(train_frames)"
   ]
  },
  {
   "cell_type": "code",
   "execution_count": 67,
   "metadata": {},
   "outputs": [],
   "source": [
    "train_frames.sort(key=lambda var:[int(x) if x.isdigit() else x \n",
    "                                for x in re.findall(r'[^0-9]|[0-9]+', var)])\n",
    "train_masks.sort(key=lambda var:[int(x) if x.isdigit() else x \n",
    "                               for x in re.findall(r'[^0-9]|[0-9]+', var)])"
   ]
  },
  {
   "cell_type": "code",
   "execution_count": 68,
   "metadata": {},
   "outputs": [
    {
     "data": {
      "text/plain": [
       "[('slide001_core004.jpg', 'slide001_core004_classimg_nonconvex.png'),\n",
       " ('slide001_core005.jpg', 'slide001_core005_classimg_nonconvex.png'),\n",
       " ('slide001_core006.jpg', 'slide001_core006_classimg_nonconvex.png'),\n",
       " ('slide001_core008.jpg', 'slide001_core008_classimg_nonconvex.png'),\n",
       " ('slide001_core010.jpg', 'slide001_core010_classimg_nonconvex.png'),\n",
       " ('slide001_core011.jpg', 'slide001_core011_classimg_nonconvex.png'),\n",
       " ('slide001_core012.jpg', 'slide001_core012_classimg_nonconvex.png'),\n",
       " ('slide001_core014.jpg', 'slide001_core014_classimg_nonconvex.png'),\n",
       " ('slide001_core018.jpg', 'slide001_core018_classimg_nonconvex.png'),\n",
       " ('slide001_core030.jpg', 'slide001_core030_classimg_nonconvex.png'),\n",
       " ('slide001_core037.jpg', 'slide001_core037_classimg_nonconvex.png'),\n",
       " ('slide001_core038.jpg', 'slide001_core038_classimg_nonconvex.png'),\n",
       " ('slide001_core039.jpg', 'slide001_core039_classimg_nonconvex.png'),\n",
       " ('slide001_core040.jpg', 'slide001_core040_classimg_nonconvex.png'),\n",
       " ('slide001_core041.jpg', 'slide001_core041_classimg_nonconvex.png'),\n",
       " ('slide001_core045.jpg', 'slide001_core045_classimg_nonconvex.png'),\n",
       " ('slide001_core046.jpg', 'slide001_core046_classimg_nonconvex.png'),\n",
       " ('slide001_core049.jpg', 'slide001_core049_classimg_nonconvex.png'),\n",
       " ('slide001_core055.jpg', 'slide001_core055_classimg_nonconvex.png'),\n",
       " ('slide001_core059.jpg', 'slide001_core059_classimg_nonconvex.png'),\n",
       " ('slide001_core065.jpg', 'slide001_core065_classimg_nonconvex.png'),\n",
       " ('slide001_core066.jpg', 'slide001_core066_classimg_nonconvex.png'),\n",
       " ('slide001_core067.jpg', 'slide001_core067_classimg_nonconvex.png'),\n",
       " ('slide001_core069.jpg', 'slide001_core069_classimg_nonconvex.png'),\n",
       " ('slide001_core070.jpg', 'slide001_core070_classimg_nonconvex.png'),\n",
       " ('slide001_core077.jpg', 'slide001_core077_classimg_nonconvex.png'),\n",
       " ('slide001_core079.jpg', 'slide001_core079_classimg_nonconvex.png'),\n",
       " ('slide001_core083.jpg', 'slide001_core083_classimg_nonconvex.png'),\n",
       " ('slide001_core086.jpg', 'slide001_core086_classimg_nonconvex.png'),\n",
       " ('slide001_core098.jpg', 'slide001_core098_classimg_nonconvex.png'),\n",
       " ('slide001_core109.jpg', 'slide001_core109_classimg_nonconvex.png'),\n",
       " ('slide001_core110.jpg', 'slide001_core110_classimg_nonconvex.png'),\n",
       " ('slide001_core111.jpg', 'slide001_core111_classimg_nonconvex.png'),\n",
       " ('slide001_core112.jpg', 'slide001_core112_classimg_nonconvex.png'),\n",
       " ('slide001_core134.jpg', 'slide001_core134_classimg_nonconvex.png'),\n",
       " ('slide001_core145.jpg', 'slide001_core145_classimg_nonconvex.png'),\n",
       " ('slide001_core146.jpg', 'slide001_core146_classimg_nonconvex.png'),\n",
       " ('slide001_core159.jpg', 'slide001_core159_classimg_nonconvex.png'),\n",
       " ('slide001_core160.jpg', 'slide001_core160_classimg_nonconvex.png'),\n",
       " ('slide002_core009.jpg', 'slide002_core009_classimg_nonconvex.png'),\n",
       " ('slide002_core010.jpg', 'slide002_core010_classimg_nonconvex.png'),\n",
       " ('slide002_core012.jpg', 'slide002_core012_classimg_nonconvex.png'),\n",
       " ('slide002_core025.jpg', 'slide002_core025_classimg_nonconvex.png'),\n",
       " ('slide002_core026.jpg', 'slide002_core026_classimg_nonconvex.png'),\n",
       " ('slide002_core030.jpg', 'slide002_core030_classimg_nonconvex.png'),\n",
       " ('slide002_core033.jpg', 'slide002_core033_classimg_nonconvex.png'),\n",
       " ('slide002_core039.jpg', 'slide002_core039_classimg_nonconvex.png'),\n",
       " ('slide002_core041.jpg', 'slide002_core041_classimg_nonconvex.png'),\n",
       " ('slide002_core042.jpg', 'slide002_core042_classimg_nonconvex.png'),\n",
       " ('slide002_core050.jpg', 'slide002_core050_classimg_nonconvex.png'),\n",
       " ('slide002_core051.jpg', 'slide002_core051_classimg_nonconvex.png'),\n",
       " ('slide002_core052.jpg', 'slide002_core052_classimg_nonconvex.png'),\n",
       " ('slide002_core055.jpg', 'slide002_core055_classimg_nonconvex.png'),\n",
       " ('slide002_core056.jpg', 'slide002_core056_classimg_nonconvex.png'),\n",
       " ('slide002_core062.jpg', 'slide002_core062_classimg_nonconvex.png'),\n",
       " ('slide002_core067.jpg', 'slide002_core067_classimg_nonconvex.png'),\n",
       " ('slide002_core071.jpg', 'slide002_core071_classimg_nonconvex.png'),\n",
       " ('slide002_core072.jpg', 'slide002_core072_classimg_nonconvex.png'),\n",
       " ('slide002_core074.jpg', 'slide002_core074_classimg_nonconvex.png'),\n",
       " ('slide002_core079.jpg', 'slide002_core079_classimg_nonconvex.png'),\n",
       " ('slide002_core080.jpg', 'slide002_core080_classimg_nonconvex.png'),\n",
       " ('slide002_core081.jpg', 'slide002_core081_classimg_nonconvex.png'),\n",
       " ('slide002_core082.jpg', 'slide002_core082_classimg_nonconvex.png'),\n",
       " ('slide002_core084.jpg', 'slide002_core084_classimg_nonconvex.png'),\n",
       " ('slide002_core096.jpg', 'slide002_core096_classimg_nonconvex.png'),\n",
       " ('slide002_core099.jpg', 'slide002_core099_classimg_nonconvex.png'),\n",
       " ('slide002_core116.jpg', 'slide002_core116_classimg_nonconvex.png'),\n",
       " ('slide002_core123.jpg', 'slide002_core123_classimg_nonconvex.png'),\n",
       " ('slide002_core124.jpg', 'slide002_core124_classimg_nonconvex.png'),\n",
       " ('slide002_core139.jpg', 'slide002_core139_classimg_nonconvex.png'),\n",
       " ('slide002_core144.jpg', 'slide002_core144_classimg_nonconvex.png'),\n",
       " ('slide002_core145.jpg', 'slide002_core145_classimg_nonconvex.png'),\n",
       " ('slide002_core150.jpg', 'slide002_core150_classimg_nonconvex.png'),\n",
       " ('slide003_core004.jpg', 'slide003_core004_classimg_nonconvex.png'),\n",
       " ('slide003_core005.jpg', 'slide003_core005_classimg_nonconvex.png'),\n",
       " ('slide003_core010.jpg', 'slide003_core010_classimg_nonconvex.png'),\n",
       " ('slide003_core023.jpg', 'slide003_core023_classimg_nonconvex.png'),\n",
       " ('slide003_core031.jpg', 'slide003_core031_classimg_nonconvex.png'),\n",
       " ('slide003_core038.jpg', 'slide003_core038_classimg_nonconvex.png'),\n",
       " ('slide003_core044.jpg', 'slide003_core044_classimg_nonconvex.png'),\n",
       " ('slide003_core045.jpg', 'slide003_core045_classimg_nonconvex.png'),\n",
       " ('slide003_core046.jpg', 'slide003_core046_classimg_nonconvex.png'),\n",
       " ('slide003_core054.jpg', 'slide003_core054_classimg_nonconvex.png'),\n",
       " ('slide003_core055.jpg', 'slide003_core055_classimg_nonconvex.png'),\n",
       " ('slide003_core056.jpg', 'slide003_core056_classimg_nonconvex.png'),\n",
       " ('slide003_core065.jpg', 'slide003_core065_classimg_nonconvex.png'),\n",
       " ('slide003_core067.jpg', 'slide003_core067_classimg_nonconvex.png'),\n",
       " ('slide003_core069.jpg', 'slide003_core069_classimg_nonconvex.png'),\n",
       " ('slide003_core075.jpg', 'slide003_core075_classimg_nonconvex.png'),\n",
       " ('slide003_core077.jpg', 'slide003_core077_classimg_nonconvex.png'),\n",
       " ('slide003_core080.jpg', 'slide003_core080_classimg_nonconvex.png'),\n",
       " ('slide003_core092.jpg', 'slide003_core092_classimg_nonconvex.png'),\n",
       " ('slide003_core095.jpg', 'slide003_core095_classimg_nonconvex.png'),\n",
       " ('slide003_core096.jpg', 'slide003_core096_classimg_nonconvex.png'),\n",
       " ('slide003_core097.jpg', 'slide003_core097_classimg_nonconvex.png'),\n",
       " ('slide003_core098.jpg', 'slide003_core098_classimg_nonconvex.png'),\n",
       " ('slide003_core107.jpg', 'slide003_core107_classimg_nonconvex.png'),\n",
       " ('slide003_core114.jpg', 'slide003_core114_classimg_nonconvex.png'),\n",
       " ('slide003_core117.jpg', 'slide003_core117_classimg_nonconvex.png'),\n",
       " ('slide003_core122.jpg', 'slide003_core122_classimg_nonconvex.png'),\n",
       " ('slide003_core129.jpg', 'slide003_core129_classimg_nonconvex.png'),\n",
       " ('slide003_core133.jpg', 'slide003_core133_classimg_nonconvex.png'),\n",
       " ('slide003_core134.jpg', 'slide003_core134_classimg_nonconvex.png'),\n",
       " ('slide003_core135.jpg', 'slide003_core135_classimg_nonconvex.png'),\n",
       " ('slide003_core136.jpg', 'slide003_core136_classimg_nonconvex.png'),\n",
       " ('slide005_core009.jpg', 'slide005_core009_classimg_nonconvex.png'),\n",
       " ('slide005_core021.jpg', 'slide005_core021_classimg_nonconvex.png'),\n",
       " ('slide005_core029.jpg', 'slide005_core029_classimg_nonconvex.png'),\n",
       " ('slide005_core033.jpg', 'slide005_core033_classimg_nonconvex.png'),\n",
       " ('slide005_core035.jpg', 'slide005_core035_classimg_nonconvex.png'),\n",
       " ('slide005_core038.jpg', 'slide005_core038_classimg_nonconvex.png'),\n",
       " ('slide005_core041.jpg', 'slide005_core041_classimg_nonconvex.png'),\n",
       " ('slide005_core045.jpg', 'slide005_core045_classimg_nonconvex.png'),\n",
       " ('slide005_core046.jpg', 'slide005_core046_classimg_nonconvex.png'),\n",
       " ('slide005_core049.jpg', 'slide005_core049_classimg_nonconvex.png'),\n",
       " ('slide005_core051.jpg', 'slide005_core051_classimg_nonconvex.png'),\n",
       " ('slide005_core057.jpg', 'slide005_core057_classimg_nonconvex.png'),\n",
       " ('slide005_core063.jpg', 'slide005_core063_classimg_nonconvex.png'),\n",
       " ('slide005_core064.jpg', 'slide005_core064_classimg_nonconvex.png'),\n",
       " ('slide005_core069.jpg', 'slide005_core069_classimg_nonconvex.png'),\n",
       " ('slide005_core073.jpg', 'slide005_core073_classimg_nonconvex.png'),\n",
       " ('slide005_core074.jpg', 'slide005_core074_classimg_nonconvex.png'),\n",
       " ('slide005_core087.jpg', 'slide005_core087_classimg_nonconvex.png'),\n",
       " ('slide005_core090.jpg', 'slide005_core090_classimg_nonconvex.png'),\n",
       " ('slide005_core092.jpg', 'slide005_core092_classimg_nonconvex.png'),\n",
       " ('slide005_core093.jpg', 'slide005_core093_classimg_nonconvex.png'),\n",
       " ('slide005_core094.jpg', 'slide005_core094_classimg_nonconvex.png'),\n",
       " ('slide005_core097.jpg', 'slide005_core097_classimg_nonconvex.png'),\n",
       " ('slide005_core101.jpg', 'slide005_core101_classimg_nonconvex.png'),\n",
       " ('slide005_core102.jpg', 'slide005_core102_classimg_nonconvex.png'),\n",
       " ('slide005_core104.jpg', 'slide005_core104_classimg_nonconvex.png'),\n",
       " ('slide005_core111.jpg', 'slide005_core111_classimg_nonconvex.png'),\n",
       " ('slide005_core112.jpg', 'slide005_core112_classimg_nonconvex.png'),\n",
       " ('slide005_core118.jpg', 'slide005_core118_classimg_nonconvex.png'),\n",
       " ('slide005_core122.jpg', 'slide005_core122_classimg_nonconvex.png'),\n",
       " ('slide005_core131.jpg', 'slide005_core131_classimg_nonconvex.png'),\n",
       " ('slide005_core133.jpg', 'slide005_core133_classimg_nonconvex.png'),\n",
       " ('slide005_core140.jpg', 'slide005_core140_classimg_nonconvex.png'),\n",
       " ('slide005_core147.jpg', 'slide005_core147_classimg_nonconvex.png'),\n",
       " ('slide005_core154.jpg', 'slide005_core154_classimg_nonconvex.png'),\n",
       " ('slide005_core159.jpg', 'slide005_core159_classimg_nonconvex.png'),\n",
       " ('slide006_core003.jpg', 'slide006_core003_classimg_nonconvex.png'),\n",
       " ('slide006_core007.jpg', 'slide006_core007_classimg_nonconvex.png'),\n",
       " ('slide006_core010.jpg', 'slide006_core010_classimg_nonconvex.png'),\n",
       " ('slide006_core012.jpg', 'slide006_core012_classimg_nonconvex.png'),\n",
       " ('slide006_core016.jpg', 'slide006_core016_classimg_nonconvex.png'),\n",
       " ('slide006_core023.jpg', 'slide006_core023_classimg_nonconvex.png'),\n",
       " ('slide006_core029.jpg', 'slide006_core029_classimg_nonconvex.png'),\n",
       " ('slide006_core044.jpg', 'slide006_core044_classimg_nonconvex.png'),\n",
       " ('slide006_core046.jpg', 'slide006_core046_classimg_nonconvex.png'),\n",
       " ('slide006_core058.jpg', 'slide006_core058_classimg_nonconvex.png'),\n",
       " ('slide006_core066.jpg', 'slide006_core066_classimg_nonconvex.png'),\n",
       " ('slide006_core071.jpg', 'slide006_core071_classimg_nonconvex.png'),\n",
       " ('slide006_core078.jpg', 'slide006_core078_classimg_nonconvex.png'),\n",
       " ('slide006_core082.jpg', 'slide006_core082_classimg_nonconvex.png'),\n",
       " ('slide006_core083.jpg', 'slide006_core083_classimg_nonconvex.png'),\n",
       " ('slide006_core084.jpg', 'slide006_core084_classimg_nonconvex.png'),\n",
       " ('slide006_core086.jpg', 'slide006_core086_classimg_nonconvex.png'),\n",
       " ('slide006_core087.jpg', 'slide006_core087_classimg_nonconvex.png'),\n",
       " ('slide006_core088.jpg', 'slide006_core088_classimg_nonconvex.png'),\n",
       " ('slide006_core089.jpg', 'slide006_core089_classimg_nonconvex.png'),\n",
       " ('slide006_core090.jpg', 'slide006_core090_classimg_nonconvex.png'),\n",
       " ('slide006_core101.jpg', 'slide006_core101_classimg_nonconvex.png'),\n",
       " ('slide006_core102.jpg', 'slide006_core102_classimg_nonconvex.png'),\n",
       " ('slide006_core105.jpg', 'slide006_core105_classimg_nonconvex.png'),\n",
       " ('slide006_core108.jpg', 'slide006_core108_classimg_nonconvex.png'),\n",
       " ('slide006_core109.jpg', 'slide006_core109_classimg_nonconvex.png'),\n",
       " ('slide006_core110.jpg', 'slide006_core110_classimg_nonconvex.png'),\n",
       " ('slide006_core113.jpg', 'slide006_core113_classimg_nonconvex.png'),\n",
       " ('slide006_core114.jpg', 'slide006_core114_classimg_nonconvex.png'),\n",
       " ('slide006_core115.jpg', 'slide006_core115_classimg_nonconvex.png'),\n",
       " ('slide006_core116.jpg', 'slide006_core116_classimg_nonconvex.png'),\n",
       " ('slide006_core120.jpg', 'slide006_core120_classimg_nonconvex.png'),\n",
       " ('slide006_core125.jpg', 'slide006_core125_classimg_nonconvex.png'),\n",
       " ('slide006_core129.jpg', 'slide006_core129_classimg_nonconvex.png'),\n",
       " ('slide006_core136.jpg', 'slide006_core136_classimg_nonconvex.png'),\n",
       " ('slide006_core141.jpg', 'slide006_core141_classimg_nonconvex.png'),\n",
       " ('slide006_core142.jpg', 'slide006_core142_classimg_nonconvex.png'),\n",
       " ('slide006_core155.jpg', 'slide006_core155_classimg_nonconvex.png'),\n",
       " ('slide007_core002.jpg', 'slide007_core002_classimg_nonconvex.png'),\n",
       " ('slide007_core005.jpg', 'slide007_core005_classimg_nonconvex.png'),\n",
       " ('slide007_core006.jpg', 'slide007_core006_classimg_nonconvex.png'),\n",
       " ('slide007_core008.jpg', 'slide007_core008_classimg_nonconvex.png'),\n",
       " ('slide007_core013.jpg', 'slide007_core013_classimg_nonconvex.png'),\n",
       " ('slide007_core014.jpg', 'slide007_core014_classimg_nonconvex.png'),\n",
       " ('slide007_core015.jpg', 'slide007_core015_classimg_nonconvex.png'),\n",
       " ('slide007_core024.jpg', 'slide007_core024_classimg_nonconvex.png'),\n",
       " ('slide007_core038.jpg', 'slide007_core038_classimg_nonconvex.png'),\n",
       " ('slide007_core043.jpg', 'slide007_core043_classimg_nonconvex.png'),\n",
       " ('slide007_core044.jpg', 'slide007_core044_classimg_nonconvex.png'),\n",
       " ('slide007_core047.jpg', 'slide007_core047_classimg_nonconvex.png'),\n",
       " ('slide007_core048.jpg', 'slide007_core048_classimg_nonconvex.png'),\n",
       " ('slide007_core055.jpg', 'slide007_core055_classimg_nonconvex.png'),\n",
       " ('slide007_core056.jpg', 'slide007_core056_classimg_nonconvex.png'),\n",
       " ('slide007_core057.jpg', 'slide007_core057_classimg_nonconvex.png'),\n",
       " ('slide007_core078.jpg', 'slide007_core078_classimg_nonconvex.png'),\n",
       " ('slide007_core093.jpg', 'slide007_core093_classimg_nonconvex.png'),\n",
       " ('slide007_core146.jpg', 'slide007_core146_classimg_nonconvex.png'),\n",
       " ('slide007_core149.jpg', 'slide007_core149_classimg_nonconvex.png'),\n",
       " ('slide007_core150.jpg', 'slide007_core150_classimg_nonconvex.png')]"
      ]
     },
     "execution_count": 68,
     "metadata": {},
     "output_type": "execute_result"
    }
   ],
   "source": [
    "list(zip(train_frames,train_masks))"
   ]
  },
  {
   "cell_type": "code",
   "execution_count": 69,
   "metadata": {},
   "outputs": [
    {
     "data": {
      "text/plain": [
       "44"
      ]
     },
     "execution_count": 69,
     "metadata": {},
     "output_type": "execute_result"
    },
    {
     "data": {
      "text/plain": [
       "44"
      ]
     },
     "execution_count": 69,
     "metadata": {},
     "output_type": "execute_result"
    }
   ],
   "source": [
    "#Similarly from the val_frames set, add in the corresponding masks set to the val_masks set\n",
    "\n",
    "val_masks=[]\n",
    "\n",
    "for mask in masks_list:\n",
    "    for frame in val_frames:\n",
    "        if mask[0:16]==frame[:-4]:\n",
    "            val_masks.append(mask)\n",
    "            \n",
    "len(val_masks)\n",
    "len(val_frames)"
   ]
  },
  {
   "cell_type": "code",
   "execution_count": 70,
   "metadata": {},
   "outputs": [
    {
     "data": {
      "text/plain": [
       "[('slide001_core003.jpg', 'slide001_core003_classimg_nonconvex.png'),\n",
       " ('slide001_core007.jpg', 'slide001_core007_classimg_nonconvex.png'),\n",
       " ('slide001_core009.jpg', 'slide001_core009_classimg_nonconvex.png'),\n",
       " ('slide001_core095.jpg', 'slide001_core095_classimg_nonconvex.png'),\n",
       " ('slide001_core156.jpg', 'slide001_core156_classimg_nonconvex.png'),\n",
       " ('slide002_core002.jpg', 'slide002_core002_classimg_nonconvex.png'),\n",
       " ('slide002_core017.jpg', 'slide002_core017_classimg_nonconvex.png'),\n",
       " ('slide002_core073.jpg', 'slide002_core073_classimg_nonconvex.png'),\n",
       " ('slide002_core126.jpg', 'slide002_core126_classimg_nonconvex.png'),\n",
       " ('slide002_core140.jpg', 'slide002_core140_classimg_nonconvex.png'),\n",
       " ('slide002_core143.jpg', 'slide002_core143_classimg_nonconvex.png'),\n",
       " ('slide003_core037.jpg', 'slide003_core037_classimg_nonconvex.png'),\n",
       " ('slide003_core068.jpg', 'slide003_core068_classimg_nonconvex.png'),\n",
       " ('slide003_core083.jpg', 'slide003_core083_classimg_nonconvex.png'),\n",
       " ('slide003_core108.jpg', 'slide003_core108_classimg_nonconvex.png'),\n",
       " ('slide003_core125.jpg', 'slide003_core125_classimg_nonconvex.png'),\n",
       " ('slide005_core012.jpg', 'slide005_core012_classimg_nonconvex.png'),\n",
       " ('slide005_core017.jpg', 'slide005_core017_classimg_nonconvex.png'),\n",
       " ('slide005_core018.jpg', 'slide005_core018_classimg_nonconvex.png'),\n",
       " ('slide005_core034.jpg', 'slide005_core034_classimg_nonconvex.png'),\n",
       " ('slide005_core058.jpg', 'slide005_core058_classimg_nonconvex.png'),\n",
       " ('slide005_core088.jpg', 'slide005_core088_classimg_nonconvex.png'),\n",
       " ('slide005_core091.jpg', 'slide005_core091_classimg_nonconvex.png'),\n",
       " ('slide005_core117.jpg', 'slide005_core117_classimg_nonconvex.png'),\n",
       " ('slide005_core127.jpg', 'slide005_core127_classimg_nonconvex.png'),\n",
       " ('slide005_core132.jpg', 'slide005_core132_classimg_nonconvex.png'),\n",
       " ('slide006_core004.jpg', 'slide006_core004_classimg_nonconvex.png'),\n",
       " ('slide006_core011.jpg', 'slide006_core011_classimg_nonconvex.png'),\n",
       " ('slide006_core015.jpg', 'slide006_core015_classimg_nonconvex.png'),\n",
       " ('slide006_core019.jpg', 'slide006_core019_classimg_nonconvex.png'),\n",
       " ('slide006_core047.jpg', 'slide006_core047_classimg_nonconvex.png'),\n",
       " ('slide006_core048.jpg', 'slide006_core048_classimg_nonconvex.png'),\n",
       " ('slide006_core077.jpg', 'slide006_core077_classimg_nonconvex.png'),\n",
       " ('slide006_core093.jpg', 'slide006_core093_classimg_nonconvex.png'),\n",
       " ('slide006_core098.jpg', 'slide006_core098_classimg_nonconvex.png'),\n",
       " ('slide006_core100.jpg', 'slide006_core100_classimg_nonconvex.png'),\n",
       " ('slide006_core130.jpg', 'slide006_core130_classimg_nonconvex.png'),\n",
       " ('slide007_core016.jpg', 'slide007_core016_classimg_nonconvex.png'),\n",
       " ('slide007_core028.jpg', 'slide007_core028_classimg_nonconvex.png'),\n",
       " ('slide007_core031.jpg', 'slide007_core031_classimg_nonconvex.png'),\n",
       " ('slide007_core033.jpg', 'slide007_core033_classimg_nonconvex.png'),\n",
       " ('slide007_core046.jpg', 'slide007_core046_classimg_nonconvex.png'),\n",
       " ('slide007_core070.jpg', 'slide007_core070_classimg_nonconvex.png'),\n",
       " ('slide007_core107.jpg', 'slide007_core107_classimg_nonconvex.png')]"
      ]
     },
     "execution_count": 70,
     "metadata": {},
     "output_type": "execute_result"
    }
   ],
   "source": [
    "val_frames.sort(key=lambda var:[int(x) if x.isdigit() else x \n",
    "                                for x in re.findall(r'[^0-9]|[0-9]+', var)])\n",
    "val_masks.sort(key=lambda var:[int(x) if x.isdigit() else x \n",
    "                               for x in re.findall(r'[^0-9]|[0-9]+', var)])\n",
    "\n",
    "list(zip(val_frames,val_masks))"
   ]
  },
  {
   "cell_type": "markdown",
   "metadata": {},
   "source": [
    "**Add Train, val frames and masks to relevant folders**"
   ]
  },
  {
   "cell_type": "code",
   "execution_count": 71,
   "metadata": {},
   "outputs": [],
   "source": [
    "import imghdr"
   ]
  },
  {
   "cell_type": "code",
   "execution_count": null,
   "metadata": {},
   "outputs": [],
   "source": [
    "FRAME_PATH ='/Users/phuongchi/Documents/GLEASON_2019/Gleason-master/Train_imgs'\n",
    "MASK_PATH='/Users/phuongchi/Documents/GLEASON_2019/Gleason-master/final_masks'"
   ]
  },
  {
   "cell_type": "code",
   "execution_count": 72,
   "metadata": {},
   "outputs": [
    {
     "data": {
      "text/plain": [
       "'/Users/phuongchi/Documents/GLEASON_2019/Gleason-master/'"
      ]
     },
     "execution_count": 72,
     "metadata": {},
     "output_type": "execute_result"
    }
   ],
   "source": [
    "DATA_PATH"
   ]
  },
  {
   "cell_type": "code",
   "execution_count": 73,
   "metadata": {},
   "outputs": [],
   "source": [
    "#save all the train_frames and train_masks photo into corresponding folder\n",
    "\n",
    "dir_name='train'\n",
    "\n",
    "for file in zip(train_frames, train_masks):\n",
    "     if imghdr.what(FRAME_PATH+'/'+file[0]) =='jpeg':\n",
    "        img = Image.open(FRAME_PATH+'/'+file[0])\n",
    "        img.save(DATA_PATH+'{}_frames/{}'.format(dir_name,dir_name)+'/'+file[0])\n",
    "        \n",
    "    \n",
    "     if imghdr.what(MASK_PATH+'/'+file[1]) =='png':\n",
    "        img = Image.open(MASK_PATH+'/'+file[1])\n",
    "        img.save(DATA_PATH+'{}_masks/{}'.format(dir_name,dir_name)+'/'+file[1])"
   ]
  },
  {
   "cell_type": "code",
   "execution_count": 74,
   "metadata": {},
   "outputs": [],
   "source": [
    "dir_name='val'\n",
    "\n",
    "for file in zip(val_frames, val_masks):\n",
    "     if imghdr.what(FRAME_PATH+'/'+file[0]) =='jpeg':\n",
    "        img = Image.open(FRAME_PATH+'/'+file[0])\n",
    "        img.save(DATA_PATH+'{}_frames/{}'.format(dir_name,dir_name)+'/'+file[0])\n",
    "        \n",
    "    \n",
    "     if imghdr.what(MASK_PATH+'/'+file[1]) =='png':\n",
    "        img = Image.open(MASK_PATH+'/'+file[1])\n",
    "        img.save(DATA_PATH+'{}_masks/{}'.format(dir_name,dir_name)+'/'+file[1])"
   ]
  },
  {
   "cell_type": "code",
   "execution_count": null,
   "metadata": {},
   "outputs": [],
   "source": []
  }
 ],
 "metadata": {
  "kernelspec": {
   "display_name": "Python 3",
   "language": "python",
   "name": "python3"
  },
  "language_info": {
   "codemirror_mode": {
    "name": "ipython",
    "version": 3
   },
   "file_extension": ".py",
   "mimetype": "text/x-python",
   "name": "python",
   "nbconvert_exporter": "python",
   "pygments_lexer": "ipython3",
   "version": "3.7.3"
  }
 },
 "nbformat": 4,
 "nbformat_minor": 2
}
