{
 "cells": [
  {
   "cell_type": "code",
   "execution_count": 2,
   "metadata": {},
   "outputs": [],
   "source": [
    "import os"
   ]
  },
  {
   "cell_type": "markdown",
   "metadata": {},
   "source": [
    "**Training set:  111, 199, 204\n",
    "  Validation: TMA76\n",
    "  Test set: TMA 80**"
   ]
  },
  {
   "cell_type": "code",
   "execution_count": 2,
   "metadata": {},
   "outputs": [],
   "source": [
    "import albumentations as A"
   ]
  },
  {
   "cell_type": "code",
   "execution_count": 3,
   "metadata": {},
   "outputs": [
    {
     "data": {
      "text/plain": [
       "'/Users/phuongchi/Documents/GLEASON_2019/Full_Harvard_set'"
      ]
     },
     "execution_count": 3,
     "metadata": {},
     "output_type": "execute_result"
    }
   ],
   "source": [
    "pwd"
   ]
  },
  {
   "cell_type": "code",
   "execution_count": 37,
   "metadata": {},
   "outputs": [],
   "source": [
    "import cv2\n",
    "import numpy as np\n",
    "import matplotlib.pyplot as plt\n",
    "import shutil "
   ]
  },
  {
   "cell_type": "code",
   "execution_count": 5,
   "metadata": {},
   "outputs": [],
   "source": [
    "import tensorflow as tf"
   ]
  },
  {
   "cell_type": "code",
   "execution_count": 6,
   "metadata": {},
   "outputs": [
    {
     "name": "stdout",
     "output_type": "stream",
     "text": [
      "Tensorflow version:  1.15.0\n"
     ]
    }
   ],
   "source": [
    "print(\"Tensorflow version: \", tf.__version__)"
   ]
  },
  {
   "cell_type": "code",
   "execution_count": 8,
   "metadata": {},
   "outputs": [],
   "source": [
    "DATA_DIR = '/Users/phuongchi/Documents/GLEASON_2019/Full_Harvard_set/DATASET'"
   ]
  },
  {
   "cell_type": "code",
   "execution_count": 15,
   "metadata": {},
   "outputs": [
    {
     "data": {
      "text/plain": [
       "['ZT111_4_A',\n",
       " 'ZT199_1_B',\n",
       " 'ZT204_6_B',\n",
       " 'Gleason_masks_test_pathologist1',\n",
       " 'ZT80_38_A',\n",
       " 'Gleason_masks_train',\n",
       " 'ZT76_39_A',\n",
       " 'ZT111_4_B',\n",
       " 'ZT111_4_C',\n",
       " 'ZT199_1_A',\n",
       " 'ZT80_38_C',\n",
       " 'ZT204_6_A',\n",
       " 'ZT80_38_B',\n",
       " 'Gleason_masks_test_pathologist2',\n",
       " 'ZT76_39_B']"
      ]
     },
     "execution_count": 15,
     "metadata": {},
     "output_type": "execute_result"
    }
   ],
   "source": [
    "os.listdir(DATA_DIR)"
   ]
  },
  {
   "cell_type": "markdown",
   "metadata": {},
   "source": [
    "# TRAINING SET"
   ]
  },
  {
   "cell_type": "markdown",
   "metadata": {},
   "source": [
    "**Training set: 111, 199, 204**"
   ]
  },
  {
   "cell_type": "markdown",
   "metadata": {},
   "source": [
    "**Prepare train_frame folder: combine all the training folders of 111, 199, 204 together**"
   ]
  },
  {
   "cell_type": "code",
   "execution_count": 32,
   "metadata": {},
   "outputs": [],
   "source": [
    "os.mkdir('/Users/phuongchi/Documents/GLEASON_2019/Full_Harvard_set/DATASET/train_frames')"
   ]
  },
  {
   "cell_type": "code",
   "execution_count": 34,
   "metadata": {},
   "outputs": [],
   "source": [
    "x_train_dir = os.path.join(DATA_DIR, 'train_frames')"
   ]
  },
  {
   "cell_type": "code",
   "execution_count": 35,
   "metadata": {},
   "outputs": [
    {
     "data": {
      "text/plain": [
       "'/Users/phuongchi/Documents/GLEASON_2019/Full_Harvard_set/DATASET/train_frames'"
      ]
     },
     "execution_count": 35,
     "metadata": {},
     "output_type": "execute_result"
    }
   ],
   "source": [
    "x_train_dir"
   ]
  },
  {
   "cell_type": "code",
   "execution_count": 100,
   "metadata": {},
   "outputs": [],
   "source": [
    "training_folders = ['ZT111_4_A', 'ZT111_4_B', 'ZT111_4_C','ZT199_1_A','ZT199_1_B', 'ZT204_6_A', 'ZT204_6_B']"
   ]
  },
  {
   "cell_type": "code",
   "execution_count": 101,
   "metadata": {},
   "outputs": [
    {
     "name": "stdout",
     "output_type": "stream",
     "text": [
      "Training Folder ZT111_4_A:\n",
      "/Users/phuongchi/Documents/GLEASON_2019/Full_Harvard_set/DATASET/ZT111_4_A\n",
      "Number of image in ZT111_4_A training foler: 77\n",
      "Current number of images: 78\n",
      "****************************************************************************************\n",
      "\n",
      "\n",
      "Training Folder ZT111_4_B:\n",
      "/Users/phuongchi/Documents/GLEASON_2019/Full_Harvard_set/DATASET/ZT111_4_B\n",
      "Number of image in ZT111_4_B training foler: 71\n",
      "Current number of images: 149\n",
      "****************************************************************************************\n",
      "\n",
      "\n",
      "Training Folder ZT111_4_C:\n",
      "/Users/phuongchi/Documents/GLEASON_2019/Full_Harvard_set/DATASET/ZT111_4_C\n",
      "Number of image in ZT111_4_C training foler: 79\n",
      "Current number of images: 228\n",
      "****************************************************************************************\n",
      "\n",
      "\n",
      "Training Folder ZT199_1_A:\n",
      "/Users/phuongchi/Documents/GLEASON_2019/Full_Harvard_set/DATASET/ZT199_1_A\n",
      "Number of image in ZT199_1_A training foler: 94\n",
      "Current number of images: 322\n",
      "****************************************************************************************\n",
      "\n",
      "\n",
      "Training Folder ZT199_1_B:\n",
      "/Users/phuongchi/Documents/GLEASON_2019/Full_Harvard_set/DATASET/ZT199_1_B\n",
      "Number of image in ZT199_1_B training foler: 82\n",
      "Current number of images: 404\n",
      "****************************************************************************************\n",
      "\n",
      "\n",
      "Training Folder ZT204_6_A:\n",
      "/Users/phuongchi/Documents/GLEASON_2019/Full_Harvard_set/DATASET/ZT204_6_A\n",
      "Number of image in ZT204_6_A training foler: 53\n",
      "Current number of images: 457\n",
      "****************************************************************************************\n",
      "\n",
      "\n",
      "Training Folder ZT204_6_B:\n",
      "/Users/phuongchi/Documents/GLEASON_2019/Full_Harvard_set/DATASET/ZT204_6_B\n",
      "Number of image in ZT204_6_B training foler: 52\n",
      "Current number of images: 509\n",
      "****************************************************************************************\n",
      "\n",
      "\n",
      "Final Total training images: 509\n"
     ]
    }
   ],
   "source": [
    "for training in training_folders:\n",
    "    print('Training Folder {}:'.format(training))\n",
    "    train_dir = os.path.join(DATA_DIR,training)\n",
    "    print(train_dir)\n",
    "    train_folder_list = os.listdir(train_dir)  \n",
    "    print('Number of image in {} training foler:'.format(training),len(train_folder_list))\n",
    "    for image in train_folder_list:\n",
    "        image_file = os.path.join(train_dir,image)\n",
    "        shutil.copy2(image_file, x_train_dir)\n",
    "    print('Current number of images:',len(os.listdir(x_train_dir)))\n",
    "    print('****************************************************************************************')\n",
    "    print('\\n')\n",
    "          \n",
    "print(\"Final Total training images:\", len(os.listdir(x_train_dir)))"
   ]
  },
  {
   "cell_type": "code",
   "execution_count": 103,
   "metadata": {},
   "outputs": [
    {
     "data": {
      "text/plain": [
       "508"
      ]
     },
     "execution_count": 103,
     "metadata": {},
     "output_type": "execute_result"
    }
   ],
   "source": [
    "len(os.listdir(x_train_dir)) #remove the .DS_Store file in ternminal"
   ]
  },
  {
   "cell_type": "code",
   "execution_count": 104,
   "metadata": {},
   "outputs": [
    {
     "data": {
      "text/plain": [
       "'/Users/phuongchi/Documents/GLEASON_2019/Full_Harvard_set/DATASET/train_frames'"
      ]
     },
     "execution_count": 104,
     "metadata": {},
     "output_type": "execute_result"
    }
   ],
   "source": [
    "x_train_dir"
   ]
  },
  {
   "cell_type": "markdown",
   "metadata": {},
   "source": [
    "**Prepare train_mask folder: combine all the training folders of 111, 199, 204 together**"
   ]
  },
  {
   "cell_type": "code",
   "execution_count": 56,
   "metadata": {},
   "outputs": [],
   "source": [
    "os.mkdir('/Users/phuongchi/Documents/GLEASON_2019/Full_Harvard_set/DATASET/train_masks')"
   ]
  },
  {
   "cell_type": "code",
   "execution_count": 58,
   "metadata": {},
   "outputs": [
    {
     "data": {
      "text/plain": [
       "'/Users/phuongchi/Documents/GLEASON_2019/Full_Harvard_set/DATASET/train_masks'"
      ]
     },
     "execution_count": 58,
     "metadata": {},
     "output_type": "execute_result"
    }
   ],
   "source": [
    "y_train_dir = os.path.join(DATA_DIR, 'train_masks')\n",
    "y_train_dir"
   ]
  },
  {
   "cell_type": "code",
   "execution_count": 60,
   "metadata": {},
   "outputs": [
    {
     "data": {
      "text/plain": [
       "'/Users/phuongchi/Documents/GLEASON_2019/Full_Harvard_set/DATASET/Gleason_masks_train'"
      ]
     },
     "execution_count": 60,
     "metadata": {},
     "output_type": "execute_result"
    }
   ],
   "source": [
    "Gleason_mask_train = os.path.join(DATA_DIR,'Gleason_masks_train')\n",
    "Gleason_mask_train"
   ]
  },
  {
   "cell_type": "code",
   "execution_count": 64,
   "metadata": {},
   "outputs": [
    {
     "data": {
      "text/plain": [
       "641"
      ]
     },
     "execution_count": 64,
     "metadata": {},
     "output_type": "execute_result"
    }
   ],
   "source": [
    "len(os.listdir(Gleason_mask_train)) # total training and validation masks "
   ]
  },
  {
   "cell_type": "markdown",
   "metadata": {},
   "source": [
    "Copy all training masks from the combined mask folder Gleason_mask_train to train_frames folder"
   ]
  },
  {
   "cell_type": "code",
   "execution_count": 69,
   "metadata": {},
   "outputs": [
    {
     "name": "stdout",
     "output_type": "stream",
     "text": [
      "Total training mask: 508\n"
     ]
    }
   ],
   "source": [
    "for mask in os.listdir(Gleason_mask_train):\n",
    "    if 'mask_ZT76' not in mask:\n",
    "        mask_file = os.path.join(Gleason_mask_train, mask)\n",
    "        shutil.copy2(mask_file, y_train_dir)\n",
    "\n",
    "print(\"Total training mask:\", len(os.listdir(y_train_dir)))"
   ]
  },
  {
   "cell_type": "code",
   "execution_count": 70,
   "metadata": {},
   "outputs": [],
   "source": [
    "#Check if training image and training masks have equal number of files\n",
    "\n",
    "assert len(os.listdir(x_train_dir)) == len(os.listdir(y_train_dir))"
   ]
  },
  {
   "cell_type": "markdown",
   "metadata": {},
   "source": [
    "# VALIDATION SET"
   ]
  },
  {
   "cell_type": "markdown",
   "metadata": {},
   "source": [
    "**Prepare val_frame folder: combine all the validation folders of 76 MA together**"
   ]
  },
  {
   "cell_type": "code",
   "execution_count": 72,
   "metadata": {},
   "outputs": [],
   "source": [
    "os.mkdir('/Users/phuongchi/Documents/GLEASON_2019/Full_Harvard_set/DATASET/val_frames')\n"
   ]
  },
  {
   "cell_type": "code",
   "execution_count": 76,
   "metadata": {},
   "outputs": [
    {
     "data": {
      "text/plain": [
       "'/Users/phuongchi/Documents/GLEASON_2019/Full_Harvard_set/DATASET/val_frames'"
      ]
     },
     "execution_count": 76,
     "metadata": {},
     "output_type": "execute_result"
    }
   ],
   "source": [
    "x_val_dir = os.path.join(DATA_DIR, 'val_frames')\n",
    "\n",
    "x_val_dir"
   ]
  },
  {
   "cell_type": "code",
   "execution_count": 77,
   "metadata": {},
   "outputs": [],
   "source": [
    "validation_folders = ['ZT76_39_A', 'ZT76_39_B']"
   ]
  },
  {
   "cell_type": "code",
   "execution_count": 79,
   "metadata": {},
   "outputs": [
    {
     "name": "stdout",
     "output_type": "stream",
     "text": [
      "Validation Folder ZT76_39_A:\n",
      "/Users/phuongchi/Documents/GLEASON_2019/Full_Harvard_set/DATASET/ZT76_39_A\n",
      "Number of image in ZT76_39_A validation foler: 94\n",
      "Current number of images: 94\n",
      "****************************************************************************************\n",
      "\n",
      "\n",
      "Validation Folder ZT76_39_B:\n",
      "/Users/phuongchi/Documents/GLEASON_2019/Full_Harvard_set/DATASET/ZT76_39_B\n",
      "Number of image in ZT76_39_B validation foler: 39\n",
      "Current number of images: 133\n",
      "****************************************************************************************\n",
      "\n",
      "\n",
      "Final Total training images: 133\n"
     ]
    }
   ],
   "source": [
    "for validation in validation_folders:\n",
    "    print('Validation Folder {}:'.format(validation))\n",
    "    val_dir = os.path.join(DATA_DIR,validation)\n",
    "    print(val_dir)\n",
    "    val_folder_list = os.listdir(val_dir)  \n",
    "    print('Number of image in {} validation foler:'.format(validation),len(val_folder_list))\n",
    "    for image in val_folder_list:\n",
    "        image_file = os.path.join(val_dir,image)\n",
    "        shutil.copy2(image_file, x_val_dir) #copy validation image to val_frames folder\n",
    "    print('Current number of images:',len(os.listdir(x_val_dir)))\n",
    "    print('****************************************************************************************')\n",
    "    print('\\n')\n",
    "          \n",
    "print(\"Final Total training images:\", len(os.listdir(x_val_dir)))\n"
   ]
  },
  {
   "cell_type": "markdown",
   "metadata": {},
   "source": [
    "**Prepare val_masks folder: split the validation masks for ZT 76 from the combined masks in Gleason_masks_train folder**"
   ]
  },
  {
   "cell_type": "code",
   "execution_count": 83,
   "metadata": {},
   "outputs": [],
   "source": [
    "os.mkdir('/Users/phuongchi/Documents/GLEASON_2019/Full_Harvard_set/DATASET/val_masks')"
   ]
  },
  {
   "cell_type": "code",
   "execution_count": 85,
   "metadata": {},
   "outputs": [
    {
     "data": {
      "text/plain": [
       "'/Users/phuongchi/Documents/GLEASON_2019/Full_Harvard_set/DATASET/val_masks'"
      ]
     },
     "execution_count": 85,
     "metadata": {},
     "output_type": "execute_result"
    }
   ],
   "source": [
    "y_val_dir = os.path.join(DATA_DIR, 'val_masks')\n",
    "y_val_dir"
   ]
  },
  {
   "cell_type": "code",
   "execution_count": 86,
   "metadata": {},
   "outputs": [
    {
     "data": {
      "text/plain": [
       "641"
      ]
     },
     "execution_count": 86,
     "metadata": {},
     "output_type": "execute_result"
    }
   ],
   "source": [
    "Gleason_mask_train = os.path.join(DATA_DIR,'Gleason_masks_train')\n",
    "Gleason_mask_train\n",
    "\n",
    "len(os.listdir(Gleason_mask_train)) # total training and validation masks "
   ]
  },
  {
   "cell_type": "markdown",
   "metadata": {},
   "source": [
    "Copy all valdation masks ((ZT_76 files) from the combined mask folder Gleason_mask_train to val_frames folder"
   ]
  },
  {
   "cell_type": "code",
   "execution_count": 87,
   "metadata": {},
   "outputs": [
    {
     "name": "stdout",
     "output_type": "stream",
     "text": [
      "Total validation masks: 133\n"
     ]
    }
   ],
   "source": [
    "for mask in os.listdir(Gleason_mask_train):\n",
    "    if 'mask_ZT76' in mask:\n",
    "        mask_file = os.path.join(Gleason_mask_train, mask)\n",
    "        shutil.copy2(mask_file, y_val_dir)\n",
    "\n",
    "print(\"Total validation masks:\", len(os.listdir(y_val_dir)))"
   ]
  },
  {
   "cell_type": "code",
   "execution_count": 99,
   "metadata": {},
   "outputs": [],
   "source": [
    "#Check if training image and training masks have equal number of files\n",
    "\n",
    "assert len(os.listdir(x_val_dir)) == len(os.listdir(y_val_dir))"
   ]
  },
  {
   "cell_type": "markdown",
   "metadata": {},
   "source": [
    "# TEST SET"
   ]
  },
  {
   "cell_type": "code",
   "execution_count": 90,
   "metadata": {},
   "outputs": [],
   "source": [
    "os.mkdir('/Users/phuongchi/Documents/GLEASON_2019/Full_Harvard_set/DATASET/test_frames')"
   ]
  },
  {
   "cell_type": "code",
   "execution_count": 91,
   "metadata": {},
   "outputs": [
    {
     "data": {
      "text/plain": [
       "'/Users/phuongchi/Documents/GLEASON_2019/Full_Harvard_set/DATASET/test_frames'"
      ]
     },
     "execution_count": 91,
     "metadata": {},
     "output_type": "execute_result"
    }
   ],
   "source": [
    "x_test_dir = os.path.join(DATA_DIR, 'test_frames')\n",
    "\n",
    "x_test_dir"
   ]
  },
  {
   "cell_type": "code",
   "execution_count": 92,
   "metadata": {},
   "outputs": [
    {
     "data": {
      "text/plain": [
       "['val_frames',\n",
       " 'ZT111_4_A',\n",
       " 'ZT199_1_B',\n",
       " '.DS_Store',\n",
       " 'test_frames',\n",
       " 'ZT204_6_B',\n",
       " 'Gleason_masks_test_pathologist1',\n",
       " 'ZT80_38_A',\n",
       " 'Gleason_masks_train',\n",
       " 'ZT76_39_A',\n",
       " 'ZT111_4_B',\n",
       " 'ZT111_4_C',\n",
       " 'ZT199_1_A',\n",
       " 'ZT80_38_C',\n",
       " 'ZT204_6_A',\n",
       " 'val_masks',\n",
       " 'ZT80_38_B',\n",
       " 'Gleason_masks_test_pathologist2',\n",
       " 'train_masks',\n",
       " 'ZT76_39_B',\n",
       " 'train_frames']"
      ]
     },
     "execution_count": 92,
     "metadata": {},
     "output_type": "execute_result"
    }
   ],
   "source": [
    "os.listdir(DATA_DIR)"
   ]
  },
  {
   "cell_type": "code",
   "execution_count": 96,
   "metadata": {},
   "outputs": [],
   "source": [
    "testing_folders = ['ZT80_38_A', 'ZT80_38_B', 'ZT80_38_C']"
   ]
  },
  {
   "cell_type": "code",
   "execution_count": 97,
   "metadata": {},
   "outputs": [
    {
     "name": "stdout",
     "output_type": "stream",
     "text": [
      "Testing Folder ZT80_38_A:\n",
      "/Users/phuongchi/Documents/GLEASON_2019/Full_Harvard_set/DATASET/ZT80_38_A\n",
      "Number of image in ZT80_38_A testing foler: 74\n",
      "Current number of images: 74\n",
      "****************************************************************************************\n",
      "\n",
      "\n",
      "Testing Folder ZT80_38_B:\n",
      "/Users/phuongchi/Documents/GLEASON_2019/Full_Harvard_set/DATASET/ZT80_38_B\n",
      "Number of image in ZT80_38_B testing foler: 86\n",
      "Current number of images: 160\n",
      "****************************************************************************************\n",
      "\n",
      "\n",
      "Testing Folder ZT80_38_C:\n",
      "/Users/phuongchi/Documents/GLEASON_2019/Full_Harvard_set/DATASET/ZT80_38_C\n",
      "Number of image in ZT80_38_C testing foler: 85\n",
      "Current number of images: 245\n",
      "****************************************************************************************\n",
      "\n",
      "\n",
      "Final Total training images: 245\n"
     ]
    }
   ],
   "source": [
    "for testing in testing_folders:\n",
    "    print('Testing Folder {}:'.format(testing))\n",
    "    test_dir = os.path.join(DATA_DIR,testing)\n",
    "    print(test_dir)\n",
    "    test_folder_list = os.listdir(test_dir)  \n",
    "    print('Number of image in {} testing foler:'.format(testing),len(test_folder_list))\n",
    "    for image in test_folder_list:\n",
    "        image_file = os.path.join(test_dir,image)\n",
    "        shutil.copy2(image_file, x_test_dir)\n",
    "    print('Current number of images:',len(os.listdir(x_test_dir)))\n",
    "    print('****************************************************************************************')\n",
    "    print('\\n')\n",
    "          \n",
    "print(\"Final Total training images:\", len(os.listdir(x_test_dir)))\n"
   ]
  },
  {
   "cell_type": "code",
   "execution_count": 98,
   "metadata": {},
   "outputs": [
    {
     "data": {
      "text/plain": [
       "'/Users/phuongchi/Documents/GLEASON_2019/Full_Harvard_set/DATASET/test_frames'"
      ]
     },
     "execution_count": 98,
     "metadata": {},
     "output_type": "execute_result"
    }
   ],
   "source": [
    "\n",
    "x_test_dir"
   ]
  },
  {
   "cell_type": "code",
   "execution_count": 106,
   "metadata": {},
   "outputs": [
    {
     "data": {
      "text/plain": [
       "'/Users/phuongchi/Documents/GLEASON_2019/Full_Harvard_set/DATASET/test_masks_1'"
      ]
     },
     "execution_count": 106,
     "metadata": {},
     "output_type": "execute_result"
    }
   ],
   "source": [
    "y_test_dir_pathologist1 = os.path.join(DATA_DIR, 'test_masks_1')\n",
    "y_test_dir_pathologist1"
   ]
  },
  {
   "cell_type": "code",
   "execution_count": 107,
   "metadata": {},
   "outputs": [
    {
     "data": {
      "text/plain": [
       "'/Users/phuongchi/Documents/GLEASON_2019/Full_Harvard_set/DATASET/test_masks_2'"
      ]
     },
     "execution_count": 107,
     "metadata": {},
     "output_type": "execute_result"
    }
   ],
   "source": [
    "y_test_dir_pathologist2 = os.path.join(DATA_DIR, 'test_masks_2')\n",
    "y_test_dir_pathologist2"
   ]
  },
  {
   "cell_type": "code",
   "execution_count": null,
   "metadata": {},
   "outputs": [],
   "source": []
  }
 ],
 "metadata": {
  "kernelspec": {
   "display_name": "Python 3",
   "language": "python",
   "name": "python3"
  },
  "language_info": {
   "codemirror_mode": {
    "name": "ipython",
    "version": 3
   },
   "file_extension": ".py",
   "mimetype": "text/x-python",
   "name": "python",
   "nbconvert_exporter": "python",
   "pygments_lexer": "ipython3",
   "version": "3.7.3"
  }
 },
 "nbformat": 4,
 "nbformat_minor": 2
}
